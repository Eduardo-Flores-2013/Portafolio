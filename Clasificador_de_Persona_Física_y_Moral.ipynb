{
 "cells": [
  {
   "cell_type": "markdown",
   "metadata": {
    "id": "X8ce1k8ECzbf"
   },
   "source": [
    "# $\\overline{\\underline{\\Large{\\textrm{Clasificador de Persona Física o Moral}}}}$"
   ]
  },
  {
   "cell_type": "markdown",
   "metadata": {
    "id": "3dENgyTLHjMf"
   },
   "source": [
    "## 0. Consideraciones"
   ]
  },
  {
   "cell_type": "markdown",
   "metadata": {
    "id": "quZz00u5DCDv"
   },
   "source": [
    "Este proyecto se centra en la implementación de un clasificador utilizando el modelo de Bayes Naive con el objetivo de distinguir entre personas físicas y morales a tráves de la cadena de caracteres que compone su nombre.\n",
    "\n",
    "El conjunto de datos se ha construido utilizando información recopilada de \"datamx.io\" a través del siguiente enlace:\n",
    "\n",
    "$~~~~~~~~~~~~~~~~~~~~~~~~~~~~~~~~~~~~~~~~~~~~~~~~~~~~~~~$ https://datamx.io/dataset/muestra-de-nombres-y-apellidos-comunes-en-mexico\n",
    "\n",
    "Este conjunto de datos proporciona una muestra representativa de nombres y apellidos comunes en México, facilitando así el entrenamiento y evaluación del modelo de Bayes Naive.\n",
    "\n",
    "\n",
    "Para los nombres de personas morales, se utilizaron datos abiertos del Sistema de Información Empresarial Mexicano, disponibles en:\n",
    "\n",
    "$~~~~~~~~~~~~~~~~~~~~~~~~~~~~~~~~~~~~~~~~~~~~~~~~~~$ https://datos.gob.mx/busca/dataset/sistema-de-informacion-empresarial-mexicano-siem."
   ]
  },
  {
   "cell_type": "markdown",
   "metadata": {
    "id": "qlH3cee_DGJ9"
   },
   "source": [
    "## 1. Carga y lmipieza de los Datos"
   ]
  },
  {
   "cell_type": "code",
   "execution_count": 20,
   "metadata": {},
   "outputs": [],
   "source": [
    "import pandas as pd\n",
    "\n",
    "ruta_1 = f\"C:/Users/10050375/Desktop/Notebooks de Python/Prácticas Diplomado/M04 Minería de Datos/Proyecto Final/Data Nombres Hombre y Mujer/hombres.csv\"\n",
    "ruta_2 = f\"C:/Users/10050375/Desktop/Notebooks de Python/Prácticas Diplomado/M04 Minería de Datos/Proyecto Final/Data Nombres Hombre y Mujer/mujeres.csv\"\n",
    "ruta_3 = f\"C:/Users/10050375/Desktop/Notebooks de Python/Prácticas Diplomado/M04 Minería de Datos/Proyecto Final/Data Nombres Hombre y Mujer/apellidos.csv\"\n",
    "\n",
    "Nombres_Hombres = pd.read_csv(ruta_1, encoding='latin-1')\n",
    "Nombres_Mujeres = pd.read_csv(ruta_2, encoding='latin-1')\n",
    "Apellidos = pd.read_csv(ruta_3, encoding='latin-1')"
   ]
  },
  {
   "cell_type": "code",
   "execution_count": 21,
   "metadata": {
    "id": "FyAgZbaEDP9s"
   },
   "outputs": [],
   "source": [
    "# Rellenar los valores NaN en la columna 'apellido' con una cadena vacía\n",
    "Apellidos['apellido'] = Apellidos['apellido'].fillna('')\n",
    "\n",
    "# Convertir la primera letra de cada palabra en la columna 'nombre' a mayúscula y el resto a minúscula (título)\n",
    "Nombres_Hombres['nombre'] = Nombres_Hombres['nombre'].str.title()\n",
    "Nombres_Mujeres['nombre'] = Nombres_Mujeres['nombre'].str.title()\n",
    "\n",
    "# Convertir la primera letra de cada palabra en la columna 'apellido' a mayúscula y el resto a minúscula (título)\n",
    "Apellidos['apellido'] = Apellidos['apellido'].str.title()\n",
    "\n",
    "# Corregir nombres femeninos que contienen 'Ma!' reemplazando 'Ma!' por 'Ma'\n",
    "Nombres_Mujeres.loc[Nombres_Mujeres['nombre'].str.contains('Ma!'), 'nombre'] = Nombres_Mujeres.loc[Nombres_Mujeres['nombre'].str.contains('Ma!'), 'nombre'].str.replace('Ma!', 'Ma')\n",
    "\n",
    "# Corregir nombres femeninos que contienen '%O' reemplazando '%O' por 'ño'\n",
    "Nombres_Mujeres.loc[Nombres_Mujeres['nombre'].str.contains('%'), 'nombre'] = Nombres_Mujeres.loc[Nombres_Mujeres['nombre'].str.contains('%'), 'nombre'].str.replace('%O', 'ño')\n"
   ]
  },
  {
   "cell_type": "code",
   "execution_count": 22,
   "metadata": {
    "id": "SJUrINR-Db3t"
   },
   "outputs": [],
   "source": [
    "import re\n",
    "\n",
    "def contiene_caracteres_raros(cadena):\n",
    "    patron_espanol = re.compile(r'[a-zA-ZñÑáéíóúÁÉÍÓÚ.\\s]')\n",
    "    return not all(patron_espanol.match(caracter) for caracter in cadena)\n",
    "\n",
    "# Filtrar las filas que contienen caracteres raros en la columna 'apellido'\n",
    "filas_con_caracteres_raros = Apellidos[Apellidos['apellido'].apply(contiene_caracteres_raros)]\n",
    "\n",
    "# Reemplazar todos los caracteres raros por una sola 'ñ' minúscula\n",
    "Apellidos.loc[filas_con_caracteres_raros.index, 'apellido'] = 'ñ'\n"
   ]
  },
  {
   "cell_type": "code",
   "execution_count": 23,
   "metadata": {
    "colab": {
     "base_uri": "https://localhost:8080/"
    },
    "id": "j8Xw4D2zDb5R",
    "outputId": "e3ed848b-85ef-4f0e-86e7-80cc55ed79f8"
   },
   "outputs": [],
   "source": [
    "# Definir la ruta al archivo CSV que contiene los nombres de personas morales\n",
    "ruta_4 = f\"C:/Users/10050375/Desktop/Notebooks de Python/Prácticas Diplomado/M04 Minería de Datos/Proyecto Final/Data Nombres Hombre y Mujer/datosgob_SIEM2023.csv\"\n",
    "\n",
    "# Leer el archivo CSV y seleccionar la columna 'Razón Social' como serie de pandas\n",
    "Nombres_Morales = pd.read_csv(ruta_4, encoding='latin-1')['Razón Social']\n",
    "\n",
    "# Crear un nuevo DataFrame con la columna 'NombreCompleto' eliminando valores NaN y reiniciando el índice\n",
    "Nombres_Morales = pd.DataFrame({'NombreCompleto': Nombres_Morales.dropna()}).reset_index(drop=True)\n",
    "\n",
    "# Convertir la primera letra de cada palabra en la columna 'NombreCompleto' a mayúscula y el resto a minúscula (título)\n",
    "Nombres_Morales['NombreCompleto'] = Nombres_Morales['NombreCompleto'].str.title()\n"
   ]
  },
  {
   "cell_type": "markdown",
   "metadata": {
    "id": "Wx442oGxDmuD"
   },
   "source": [
    "## 2. Generación del Dataset Empleado para el Entrenamiento"
   ]
  },
  {
   "cell_type": "code",
   "execution_count": 24,
   "metadata": {
    "colab": {
     "base_uri": "https://localhost:8080/",
     "height": 442
    },
    "id": "o-9Igm4cDs4z",
    "outputId": "af3e2786-17fd-49a3-bf03-a0a6b76b2dd2"
   },
   "outputs": [
    {
     "name": "stderr",
     "output_type": "stream",
     "text": [
      "Generando registros: 100%|██████████████████████████████████████████████████████████| 196/196 [00:00<00:00, 354.94it/s]\n"
     ]
    },
    {
     "data": {
      "text/html": [
       "<div>\n",
       "<style scoped>\n",
       "    .dataframe tbody tr th:only-of-type {\n",
       "        vertical-align: middle;\n",
       "    }\n",
       "\n",
       "    .dataframe tbody tr th {\n",
       "        vertical-align: top;\n",
       "    }\n",
       "\n",
       "    .dataframe thead th {\n",
       "        text-align: right;\n",
       "    }\n",
       "</style>\n",
       "<table border=\"1\" class=\"dataframe\">\n",
       "  <thead>\n",
       "    <tr style=\"text-align: right;\">\n",
       "      <th></th>\n",
       "      <th>NombreCompleto</th>\n",
       "    </tr>\n",
       "  </thead>\n",
       "  <tbody>\n",
       "    <tr>\n",
       "      <th>0</th>\n",
       "      <td>Jesús Salvador Díaz Echeverria</td>\n",
       "    </tr>\n",
       "    <tr>\n",
       "      <th>1</th>\n",
       "      <td>Miguel Ángel García Siller</td>\n",
       "    </tr>\n",
       "    <tr>\n",
       "      <th>2</th>\n",
       "      <td>Martha Elena Segura Tecozautla</td>\n",
       "    </tr>\n",
       "    <tr>\n",
       "      <th>3</th>\n",
       "      <td>María Virginia Damián Castaneda</td>\n",
       "    </tr>\n",
       "    <tr>\n",
       "      <th>4</th>\n",
       "      <td>Jorge Candia Martínez</td>\n",
       "    </tr>\n",
       "    <tr>\n",
       "      <th>...</th>\n",
       "      <td>...</td>\n",
       "    </tr>\n",
       "    <tr>\n",
       "      <th>191</th>\n",
       "      <td>Fernando Villa Vázquez</td>\n",
       "    </tr>\n",
       "    <tr>\n",
       "      <th>192</th>\n",
       "      <td>Alberto Montoya Escobedo</td>\n",
       "    </tr>\n",
       "    <tr>\n",
       "      <th>193</th>\n",
       "      <td>Jaime Ramírez Herrera</td>\n",
       "    </tr>\n",
       "    <tr>\n",
       "      <th>194</th>\n",
       "      <td>Evelio Stirk Ruíz</td>\n",
       "    </tr>\n",
       "    <tr>\n",
       "      <th>195</th>\n",
       "      <td>Enrique De Los Santos De La Cruz</td>\n",
       "    </tr>\n",
       "  </tbody>\n",
       "</table>\n",
       "<p>196 rows × 1 columns</p>\n",
       "</div>"
      ],
      "text/plain": [
       "                       NombreCompleto\n",
       "0      Jesús Salvador Díaz Echeverria\n",
       "1          Miguel Ángel García Siller\n",
       "2      Martha Elena Segura Tecozautla\n",
       "3     María Virginia Damián Castaneda\n",
       "4               Jorge Candia Martínez\n",
       "..                                ...\n",
       "191            Fernando Villa Vázquez\n",
       "192          Alberto Montoya Escobedo\n",
       "193             Jaime Ramírez Herrera\n",
       "194                 Evelio Stirk Ruíz\n",
       "195  Enrique De Los Santos De La Cruz\n",
       "\n",
       "[196 rows x 1 columns]"
      ]
     },
     "execution_count": 24,
     "metadata": {},
     "output_type": "execute_result"
    }
   ],
   "source": [
    "from tqdm import tqdm\n",
    "import numpy as np\n",
    "import pandas as pd\n",
    "\n",
    "# Crear un DataFrame vacío con una columna llamada 'NombreCompleto'\n",
    "Nombres_Fisicos = pd.DataFrame(columns=['NombreCompleto'])\n",
    "\n",
    "# Número de registros a generar\n",
    "#num_registros = 196025\n",
    "num_registros = 196\n",
    "\n",
    "# Iniciar el bucle con tqdm para mostrar una barra de progreso con el número total de registros\n",
    "with tqdm(total=num_registros, desc=\"Generando registros\") as pbar:\n",
    "    # Iterar sobre el número de registros especificado\n",
    "    for _ in range(num_registros):\n",
    "        # Elegir aleatoriamente entre 'Hombre' y 'Mujer' con una probabilidad igual\n",
    "        genero = np.random.choice(['Hombre', 'Mujer'], p=[0.5, 0.5])\n",
    "\n",
    "        # Según el género elegido, seleccionar un nombre aleatorio basado en las frecuencias de nombres\n",
    "        if genero == 'Hombre':\n",
    "            nombre = np.random.choice(Nombres_Hombres['nombre'], p=(Nombres_Hombres['frec'] / Nombres_Hombres['frec'].sum()).values)\n",
    "        else:\n",
    "            nombre = np.random.choice(Nombres_Mujeres['nombre'], p=(Nombres_Mujeres['frec'] / Nombres_Mujeres['frec'].sum()).values)\n",
    "\n",
    "        # Elegir aleatoriamente entre 'frec_pri' y 'frec_seg' para los apellidos\n",
    "        apellido_pri = np.random.choice(Apellidos['apellido'], p=(Apellidos['frec_pri'] / Apellidos['frec_pri'].sum()).values)\n",
    "        apellido_seg = np.random.choice(Apellidos['apellido'], p=(Apellidos['frec_seg'] / Apellidos['frec_seg'].sum()).values)\n",
    "\n",
    "        # Concatenar nombre y apellidos para formar el nombre completo\n",
    "        nombre_completo = f\"{nombre} {apellido_pri} {apellido_seg}\"\n",
    "\n",
    "        # Crear un DataFrame temporal con el nombre completo generado\n",
    "        df_temporal = pd.DataFrame({'NombreCompleto': [nombre_completo]})\n",
    "\n",
    "        # Concatenar el DataFrame temporal al DataFrame principal Nombres_Fisicos\n",
    "        Nombres_Fisicos = pd.concat([Nombres_Fisicos, df_temporal], ignore_index=True)\n",
    "\n",
    "        # Actualizar la barra de progreso\n",
    "        pbar.update(1)\n",
    "\n",
    "# Mostrar el DataFrame Nombres_Fisicos que contiene los nombres completos generados\n",
    "Nombres_Fisicos\n"
   ]
  },
  {
   "cell_type": "code",
   "execution_count": 25,
   "metadata": {
    "id": "ZKW6OmPedxVn"
   },
   "outputs": [],
   "source": [
    "Nombres_Fisicos['Etiqueta'] = 'P. Física'\n",
    "Nombres_Morales['Etiqueta'] = 'P. Moral'\n",
    "Nombres_DataSet = pd.concat([Nombres_Fisicos, Nombres_Morales])"
   ]
  },
  {
   "cell_type": "code",
   "execution_count": 26,
   "metadata": {},
   "outputs": [],
   "source": [
    "# Nombres_DataSet.to_csv(f'C:/Users/10050375/Desktop/Notebooks de Python/Prácticas Diplomado/M04 Minería de Datos/Proyecto Final/Data_Nombres.csv', index = False)"
   ]
  },
  {
   "cell_type": "code",
   "execution_count": 27,
   "metadata": {},
   "outputs": [],
   "source": [
    "r = f'C:/Users/10050375/Desktop/Notebooks de Python/Prácticas Diplomado/M04 Minería de Datos/Proyecto Final/Data_Nombres.csv'\n",
    "Nombres_DataSet = pd.read_csv(r)"
   ]
  },
  {
   "cell_type": "code",
   "execution_count": 34,
   "metadata": {},
   "outputs": [
    {
     "data": {
      "text/html": [
       "<div>\n",
       "<style scoped>\n",
       "    .dataframe tbody tr th:only-of-type {\n",
       "        vertical-align: middle;\n",
       "    }\n",
       "\n",
       "    .dataframe tbody tr th {\n",
       "        vertical-align: top;\n",
       "    }\n",
       "\n",
       "    .dataframe thead th {\n",
       "        text-align: right;\n",
       "    }\n",
       "</style>\n",
       "<table border=\"1\" class=\"dataframe\">\n",
       "  <thead>\n",
       "    <tr style=\"text-align: right;\">\n",
       "      <th></th>\n",
       "      <th>NombreCompleto</th>\n",
       "      <th>Etiqueta</th>\n",
       "    </tr>\n",
       "  </thead>\n",
       "  <tbody>\n",
       "    <tr>\n",
       "      <th>255396</th>\n",
       "      <td>Combustibles Y Lubricantes Atenas Sa De Cv (Ci...</td>\n",
       "      <td>P. Moral</td>\n",
       "    </tr>\n",
       "    <tr>\n",
       "      <th>76962</th>\n",
       "      <td>Felipe Maldonado Reyes</td>\n",
       "      <td>P. Física</td>\n",
       "    </tr>\n",
       "    <tr>\n",
       "      <th>293225</th>\n",
       "      <td>Industrias Sola Basic</td>\n",
       "      <td>P. Moral</td>\n",
       "    </tr>\n",
       "    <tr>\n",
       "      <th>254596</th>\n",
       "      <td>Constructora Milenio, S.A. De C.V.</td>\n",
       "      <td>P. Moral</td>\n",
       "    </tr>\n",
       "    <tr>\n",
       "      <th>364422</th>\n",
       "      <td>Disco Rodeo Wild West</td>\n",
       "      <td>P. Moral</td>\n",
       "    </tr>\n",
       "    <tr>\n",
       "      <th>87270</th>\n",
       "      <td>Julio Fernando Balam Gavia</td>\n",
       "      <td>P. Física</td>\n",
       "    </tr>\n",
       "    <tr>\n",
       "      <th>134530</th>\n",
       "      <td>Ma De La Luz Arellano Mercado</td>\n",
       "      <td>P. Física</td>\n",
       "    </tr>\n",
       "  </tbody>\n",
       "</table>\n",
       "</div>"
      ],
      "text/plain": [
       "                                           NombreCompleto   Etiqueta\n",
       "255396  Combustibles Y Lubricantes Atenas Sa De Cv (Ci...   P. Moral\n",
       "76962                              Felipe Maldonado Reyes  P. Física\n",
       "293225                              Industrias Sola Basic   P. Moral\n",
       "254596                 Constructora Milenio, S.A. De C.V.   P. Moral\n",
       "364422                              Disco Rodeo Wild West   P. Moral\n",
       "87270                          Julio Fernando Balam Gavia  P. Física\n",
       "134530                      Ma De La Luz Arellano Mercado  P. Física"
      ]
     },
     "execution_count": 34,
     "metadata": {},
     "output_type": "execute_result"
    }
   ],
   "source": [
    "Nombres_DataSet.sample(7)"
   ]
  },
  {
   "cell_type": "markdown",
   "metadata": {
    "id": "9jPMaeAiwhMQ"
   },
   "source": [
    "## 3. Creación de Características y Entrenamiento del Modelo"
   ]
  },
  {
   "cell_type": "code",
   "execution_count": 8,
   "metadata": {
    "id": "B0RsEinCwXcF"
   },
   "outputs": [],
   "source": [
    "from sklearn.feature_extraction.text import TfidfVectorizer\n",
    "\n",
    "# Crear un objeto TfidfVectorizer para la extracción de características\n",
    "# tfidf_vectorizer = TfidfVectorizer(sublinear_tf=True, encoding='latin-1', decode_error='ignore')\n",
    "tfidf_vectorizer = TfidfVectorizer(sublinear_tf=True, decode_error='ignore')\n",
    "\n",
    "\n",
    "# Aplicar el TfidfVectorizer para transformar los nombres completos en características\n",
    "features = tfidf_vectorizer.fit_transform(Nombres_DataSet['NombreCompleto'])\n"
   ]
  },
  {
   "cell_type": "code",
   "execution_count": 9,
   "metadata": {
    "id": "iFSvgjdawXe1"
   },
   "outputs": [],
   "source": [
    "from sklearn.model_selection import train_test_split\n",
    "\n",
    "X_train, X_test, y_train, y_test = train_test_split(features, Nombres_DataSet['Etiqueta'], test_size=0.2, random_state=42)\n"
   ]
  },
  {
   "cell_type": "code",
   "execution_count": 10,
   "metadata": {
    "colab": {
     "base_uri": "https://localhost:8080/",
     "height": 75
    },
    "id": "Tm7LRidUwm6E",
    "outputId": "cb35f5c3-293b-48b3-82b4-c529fc2e9721"
   },
   "outputs": [
    {
     "data": {
      "text/html": [
       "<style>#sk-container-id-1 {\n",
       "  /* Definition of color scheme common for light and dark mode */\n",
       "  --sklearn-color-text: black;\n",
       "  --sklearn-color-line: gray;\n",
       "  /* Definition of color scheme for unfitted estimators */\n",
       "  --sklearn-color-unfitted-level-0: #fff5e6;\n",
       "  --sklearn-color-unfitted-level-1: #f6e4d2;\n",
       "  --sklearn-color-unfitted-level-2: #ffe0b3;\n",
       "  --sklearn-color-unfitted-level-3: chocolate;\n",
       "  /* Definition of color scheme for fitted estimators */\n",
       "  --sklearn-color-fitted-level-0: #f0f8ff;\n",
       "  --sklearn-color-fitted-level-1: #d4ebff;\n",
       "  --sklearn-color-fitted-level-2: #b3dbfd;\n",
       "  --sklearn-color-fitted-level-3: cornflowerblue;\n",
       "\n",
       "  /* Specific color for light theme */\n",
       "  --sklearn-color-text-on-default-background: var(--sg-text-color, var(--theme-code-foreground, var(--jp-content-font-color1, black)));\n",
       "  --sklearn-color-background: var(--sg-background-color, var(--theme-background, var(--jp-layout-color0, white)));\n",
       "  --sklearn-color-border-box: var(--sg-text-color, var(--theme-code-foreground, var(--jp-content-font-color1, black)));\n",
       "  --sklearn-color-icon: #696969;\n",
       "\n",
       "  @media (prefers-color-scheme: dark) {\n",
       "    /* Redefinition of color scheme for dark theme */\n",
       "    --sklearn-color-text-on-default-background: var(--sg-text-color, var(--theme-code-foreground, var(--jp-content-font-color1, white)));\n",
       "    --sklearn-color-background: var(--sg-background-color, var(--theme-background, var(--jp-layout-color0, #111)));\n",
       "    --sklearn-color-border-box: var(--sg-text-color, var(--theme-code-foreground, var(--jp-content-font-color1, white)));\n",
       "    --sklearn-color-icon: #878787;\n",
       "  }\n",
       "}\n",
       "\n",
       "#sk-container-id-1 {\n",
       "  color: var(--sklearn-color-text);\n",
       "}\n",
       "\n",
       "#sk-container-id-1 pre {\n",
       "  padding: 0;\n",
       "}\n",
       "\n",
       "#sk-container-id-1 input.sk-hidden--visually {\n",
       "  border: 0;\n",
       "  clip: rect(1px 1px 1px 1px);\n",
       "  clip: rect(1px, 1px, 1px, 1px);\n",
       "  height: 1px;\n",
       "  margin: -1px;\n",
       "  overflow: hidden;\n",
       "  padding: 0;\n",
       "  position: absolute;\n",
       "  width: 1px;\n",
       "}\n",
       "\n",
       "#sk-container-id-1 div.sk-dashed-wrapped {\n",
       "  border: 1px dashed var(--sklearn-color-line);\n",
       "  margin: 0 0.4em 0.5em 0.4em;\n",
       "  box-sizing: border-box;\n",
       "  padding-bottom: 0.4em;\n",
       "  background-color: var(--sklearn-color-background);\n",
       "}\n",
       "\n",
       "#sk-container-id-1 div.sk-container {\n",
       "  /* jupyter's `normalize.less` sets `[hidden] { display: none; }`\n",
       "     but bootstrap.min.css set `[hidden] { display: none !important; }`\n",
       "     so we also need the `!important` here to be able to override the\n",
       "     default hidden behavior on the sphinx rendered scikit-learn.org.\n",
       "     See: https://github.com/scikit-learn/scikit-learn/issues/21755 */\n",
       "  display: inline-block !important;\n",
       "  position: relative;\n",
       "}\n",
       "\n",
       "#sk-container-id-1 div.sk-text-repr-fallback {\n",
       "  display: none;\n",
       "}\n",
       "\n",
       "div.sk-parallel-item,\n",
       "div.sk-serial,\n",
       "div.sk-item {\n",
       "  /* draw centered vertical line to link estimators */\n",
       "  background-image: linear-gradient(var(--sklearn-color-text-on-default-background), var(--sklearn-color-text-on-default-background));\n",
       "  background-size: 2px 100%;\n",
       "  background-repeat: no-repeat;\n",
       "  background-position: center center;\n",
       "}\n",
       "\n",
       "/* Parallel-specific style estimator block */\n",
       "\n",
       "#sk-container-id-1 div.sk-parallel-item::after {\n",
       "  content: \"\";\n",
       "  width: 100%;\n",
       "  border-bottom: 2px solid var(--sklearn-color-text-on-default-background);\n",
       "  flex-grow: 1;\n",
       "}\n",
       "\n",
       "#sk-container-id-1 div.sk-parallel {\n",
       "  display: flex;\n",
       "  align-items: stretch;\n",
       "  justify-content: center;\n",
       "  background-color: var(--sklearn-color-background);\n",
       "  position: relative;\n",
       "}\n",
       "\n",
       "#sk-container-id-1 div.sk-parallel-item {\n",
       "  display: flex;\n",
       "  flex-direction: column;\n",
       "}\n",
       "\n",
       "#sk-container-id-1 div.sk-parallel-item:first-child::after {\n",
       "  align-self: flex-end;\n",
       "  width: 50%;\n",
       "}\n",
       "\n",
       "#sk-container-id-1 div.sk-parallel-item:last-child::after {\n",
       "  align-self: flex-start;\n",
       "  width: 50%;\n",
       "}\n",
       "\n",
       "#sk-container-id-1 div.sk-parallel-item:only-child::after {\n",
       "  width: 0;\n",
       "}\n",
       "\n",
       "/* Serial-specific style estimator block */\n",
       "\n",
       "#sk-container-id-1 div.sk-serial {\n",
       "  display: flex;\n",
       "  flex-direction: column;\n",
       "  align-items: center;\n",
       "  background-color: var(--sklearn-color-background);\n",
       "  padding-right: 1em;\n",
       "  padding-left: 1em;\n",
       "}\n",
       "\n",
       "\n",
       "/* Toggleable style: style used for estimator/Pipeline/ColumnTransformer box that is\n",
       "clickable and can be expanded/collapsed.\n",
       "- Pipeline and ColumnTransformer use this feature and define the default style\n",
       "- Estimators will overwrite some part of the style using the `sk-estimator` class\n",
       "*/\n",
       "\n",
       "/* Pipeline and ColumnTransformer style (default) */\n",
       "\n",
       "#sk-container-id-1 div.sk-toggleable {\n",
       "  /* Default theme specific background. It is overwritten whether we have a\n",
       "  specific estimator or a Pipeline/ColumnTransformer */\n",
       "  background-color: var(--sklearn-color-background);\n",
       "}\n",
       "\n",
       "/* Toggleable label */\n",
       "#sk-container-id-1 label.sk-toggleable__label {\n",
       "  cursor: pointer;\n",
       "  display: block;\n",
       "  width: 100%;\n",
       "  margin-bottom: 0;\n",
       "  padding: 0.5em;\n",
       "  box-sizing: border-box;\n",
       "  text-align: center;\n",
       "}\n",
       "\n",
       "#sk-container-id-1 label.sk-toggleable__label-arrow:before {\n",
       "  /* Arrow on the left of the label */\n",
       "  content: \"▸\";\n",
       "  float: left;\n",
       "  margin-right: 0.25em;\n",
       "  color: var(--sklearn-color-icon);\n",
       "}\n",
       "\n",
       "#sk-container-id-1 label.sk-toggleable__label-arrow:hover:before {\n",
       "  color: var(--sklearn-color-text);\n",
       "}\n",
       "\n",
       "/* Toggleable content - dropdown */\n",
       "\n",
       "#sk-container-id-1 div.sk-toggleable__content {\n",
       "  max-height: 0;\n",
       "  max-width: 0;\n",
       "  overflow: hidden;\n",
       "  text-align: left;\n",
       "  /* unfitted */\n",
       "  background-color: var(--sklearn-color-unfitted-level-0);\n",
       "}\n",
       "\n",
       "#sk-container-id-1 div.sk-toggleable__content.fitted {\n",
       "  /* fitted */\n",
       "  background-color: var(--sklearn-color-fitted-level-0);\n",
       "}\n",
       "\n",
       "#sk-container-id-1 div.sk-toggleable__content pre {\n",
       "  margin: 0.2em;\n",
       "  border-radius: 0.25em;\n",
       "  color: var(--sklearn-color-text);\n",
       "  /* unfitted */\n",
       "  background-color: var(--sklearn-color-unfitted-level-0);\n",
       "}\n",
       "\n",
       "#sk-container-id-1 div.sk-toggleable__content.fitted pre {\n",
       "  /* unfitted */\n",
       "  background-color: var(--sklearn-color-fitted-level-0);\n",
       "}\n",
       "\n",
       "#sk-container-id-1 input.sk-toggleable__control:checked~div.sk-toggleable__content {\n",
       "  /* Expand drop-down */\n",
       "  max-height: 200px;\n",
       "  max-width: 100%;\n",
       "  overflow: auto;\n",
       "}\n",
       "\n",
       "#sk-container-id-1 input.sk-toggleable__control:checked~label.sk-toggleable__label-arrow:before {\n",
       "  content: \"▾\";\n",
       "}\n",
       "\n",
       "/* Pipeline/ColumnTransformer-specific style */\n",
       "\n",
       "#sk-container-id-1 div.sk-label input.sk-toggleable__control:checked~label.sk-toggleable__label {\n",
       "  color: var(--sklearn-color-text);\n",
       "  background-color: var(--sklearn-color-unfitted-level-2);\n",
       "}\n",
       "\n",
       "#sk-container-id-1 div.sk-label.fitted input.sk-toggleable__control:checked~label.sk-toggleable__label {\n",
       "  background-color: var(--sklearn-color-fitted-level-2);\n",
       "}\n",
       "\n",
       "/* Estimator-specific style */\n",
       "\n",
       "/* Colorize estimator box */\n",
       "#sk-container-id-1 div.sk-estimator input.sk-toggleable__control:checked~label.sk-toggleable__label {\n",
       "  /* unfitted */\n",
       "  background-color: var(--sklearn-color-unfitted-level-2);\n",
       "}\n",
       "\n",
       "#sk-container-id-1 div.sk-estimator.fitted input.sk-toggleable__control:checked~label.sk-toggleable__label {\n",
       "  /* fitted */\n",
       "  background-color: var(--sklearn-color-fitted-level-2);\n",
       "}\n",
       "\n",
       "#sk-container-id-1 div.sk-label label.sk-toggleable__label,\n",
       "#sk-container-id-1 div.sk-label label {\n",
       "  /* The background is the default theme color */\n",
       "  color: var(--sklearn-color-text-on-default-background);\n",
       "}\n",
       "\n",
       "/* On hover, darken the color of the background */\n",
       "#sk-container-id-1 div.sk-label:hover label.sk-toggleable__label {\n",
       "  color: var(--sklearn-color-text);\n",
       "  background-color: var(--sklearn-color-unfitted-level-2);\n",
       "}\n",
       "\n",
       "/* Label box, darken color on hover, fitted */\n",
       "#sk-container-id-1 div.sk-label.fitted:hover label.sk-toggleable__label.fitted {\n",
       "  color: var(--sklearn-color-text);\n",
       "  background-color: var(--sklearn-color-fitted-level-2);\n",
       "}\n",
       "\n",
       "/* Estimator label */\n",
       "\n",
       "#sk-container-id-1 div.sk-label label {\n",
       "  font-family: monospace;\n",
       "  font-weight: bold;\n",
       "  display: inline-block;\n",
       "  line-height: 1.2em;\n",
       "}\n",
       "\n",
       "#sk-container-id-1 div.sk-label-container {\n",
       "  text-align: center;\n",
       "}\n",
       "\n",
       "/* Estimator-specific */\n",
       "#sk-container-id-1 div.sk-estimator {\n",
       "  font-family: monospace;\n",
       "  border: 1px dotted var(--sklearn-color-border-box);\n",
       "  border-radius: 0.25em;\n",
       "  box-sizing: border-box;\n",
       "  margin-bottom: 0.5em;\n",
       "  /* unfitted */\n",
       "  background-color: var(--sklearn-color-unfitted-level-0);\n",
       "}\n",
       "\n",
       "#sk-container-id-1 div.sk-estimator.fitted {\n",
       "  /* fitted */\n",
       "  background-color: var(--sklearn-color-fitted-level-0);\n",
       "}\n",
       "\n",
       "/* on hover */\n",
       "#sk-container-id-1 div.sk-estimator:hover {\n",
       "  /* unfitted */\n",
       "  background-color: var(--sklearn-color-unfitted-level-2);\n",
       "}\n",
       "\n",
       "#sk-container-id-1 div.sk-estimator.fitted:hover {\n",
       "  /* fitted */\n",
       "  background-color: var(--sklearn-color-fitted-level-2);\n",
       "}\n",
       "\n",
       "/* Specification for estimator info (e.g. \"i\" and \"?\") */\n",
       "\n",
       "/* Common style for \"i\" and \"?\" */\n",
       "\n",
       ".sk-estimator-doc-link,\n",
       "a:link.sk-estimator-doc-link,\n",
       "a:visited.sk-estimator-doc-link {\n",
       "  float: right;\n",
       "  font-size: smaller;\n",
       "  line-height: 1em;\n",
       "  font-family: monospace;\n",
       "  background-color: var(--sklearn-color-background);\n",
       "  border-radius: 1em;\n",
       "  height: 1em;\n",
       "  width: 1em;\n",
       "  text-decoration: none !important;\n",
       "  margin-left: 1ex;\n",
       "  /* unfitted */\n",
       "  border: var(--sklearn-color-unfitted-level-1) 1pt solid;\n",
       "  color: var(--sklearn-color-unfitted-level-1);\n",
       "}\n",
       "\n",
       ".sk-estimator-doc-link.fitted,\n",
       "a:link.sk-estimator-doc-link.fitted,\n",
       "a:visited.sk-estimator-doc-link.fitted {\n",
       "  /* fitted */\n",
       "  border: var(--sklearn-color-fitted-level-1) 1pt solid;\n",
       "  color: var(--sklearn-color-fitted-level-1);\n",
       "}\n",
       "\n",
       "/* On hover */\n",
       "div.sk-estimator:hover .sk-estimator-doc-link:hover,\n",
       ".sk-estimator-doc-link:hover,\n",
       "div.sk-label-container:hover .sk-estimator-doc-link:hover,\n",
       ".sk-estimator-doc-link:hover {\n",
       "  /* unfitted */\n",
       "  background-color: var(--sklearn-color-unfitted-level-3);\n",
       "  color: var(--sklearn-color-background);\n",
       "  text-decoration: none;\n",
       "}\n",
       "\n",
       "div.sk-estimator.fitted:hover .sk-estimator-doc-link.fitted:hover,\n",
       ".sk-estimator-doc-link.fitted:hover,\n",
       "div.sk-label-container:hover .sk-estimator-doc-link.fitted:hover,\n",
       ".sk-estimator-doc-link.fitted:hover {\n",
       "  /* fitted */\n",
       "  background-color: var(--sklearn-color-fitted-level-3);\n",
       "  color: var(--sklearn-color-background);\n",
       "  text-decoration: none;\n",
       "}\n",
       "\n",
       "/* Span, style for the box shown on hovering the info icon */\n",
       ".sk-estimator-doc-link span {\n",
       "  display: none;\n",
       "  z-index: 9999;\n",
       "  position: relative;\n",
       "  font-weight: normal;\n",
       "  right: .2ex;\n",
       "  padding: .5ex;\n",
       "  margin: .5ex;\n",
       "  width: min-content;\n",
       "  min-width: 20ex;\n",
       "  max-width: 50ex;\n",
       "  color: var(--sklearn-color-text);\n",
       "  box-shadow: 2pt 2pt 4pt #999;\n",
       "  /* unfitted */\n",
       "  background: var(--sklearn-color-unfitted-level-0);\n",
       "  border: .5pt solid var(--sklearn-color-unfitted-level-3);\n",
       "}\n",
       "\n",
       ".sk-estimator-doc-link.fitted span {\n",
       "  /* fitted */\n",
       "  background: var(--sklearn-color-fitted-level-0);\n",
       "  border: var(--sklearn-color-fitted-level-3);\n",
       "}\n",
       "\n",
       ".sk-estimator-doc-link:hover span {\n",
       "  display: block;\n",
       "}\n",
       "\n",
       "/* \"?\"-specific style due to the `<a>` HTML tag */\n",
       "\n",
       "#sk-container-id-1 a.estimator_doc_link {\n",
       "  float: right;\n",
       "  font-size: 1rem;\n",
       "  line-height: 1em;\n",
       "  font-family: monospace;\n",
       "  background-color: var(--sklearn-color-background);\n",
       "  border-radius: 1rem;\n",
       "  height: 1rem;\n",
       "  width: 1rem;\n",
       "  text-decoration: none;\n",
       "  /* unfitted */\n",
       "  color: var(--sklearn-color-unfitted-level-1);\n",
       "  border: var(--sklearn-color-unfitted-level-1) 1pt solid;\n",
       "}\n",
       "\n",
       "#sk-container-id-1 a.estimator_doc_link.fitted {\n",
       "  /* fitted */\n",
       "  border: var(--sklearn-color-fitted-level-1) 1pt solid;\n",
       "  color: var(--sklearn-color-fitted-level-1);\n",
       "}\n",
       "\n",
       "/* On hover */\n",
       "#sk-container-id-1 a.estimator_doc_link:hover {\n",
       "  /* unfitted */\n",
       "  background-color: var(--sklearn-color-unfitted-level-3);\n",
       "  color: var(--sklearn-color-background);\n",
       "  text-decoration: none;\n",
       "}\n",
       "\n",
       "#sk-container-id-1 a.estimator_doc_link.fitted:hover {\n",
       "  /* fitted */\n",
       "  background-color: var(--sklearn-color-fitted-level-3);\n",
       "}\n",
       "</style><div id=\"sk-container-id-1\" class=\"sk-top-container\"><div class=\"sk-text-repr-fallback\"><pre>MultinomialNB()</pre><b>In a Jupyter environment, please rerun this cell to show the HTML representation or trust the notebook. <br />On GitHub, the HTML representation is unable to render, please try loading this page with nbviewer.org.</b></div><div class=\"sk-container\" hidden><div class=\"sk-item\"><div class=\"sk-estimator fitted sk-toggleable\"><input class=\"sk-toggleable__control sk-hidden--visually\" id=\"sk-estimator-id-1\" type=\"checkbox\" checked><label for=\"sk-estimator-id-1\" class=\"sk-toggleable__label fitted sk-toggleable__label-arrow fitted\">&nbsp;&nbsp;MultinomialNB<a class=\"sk-estimator-doc-link fitted\" rel=\"noreferrer\" target=\"_blank\" href=\"https://scikit-learn.org/1.5/modules/generated/sklearn.naive_bayes.MultinomialNB.html\">?<span>Documentation for MultinomialNB</span></a><span class=\"sk-estimator-doc-link fitted\">i<span>Fitted</span></span></label><div class=\"sk-toggleable__content fitted\"><pre>MultinomialNB()</pre></div> </div></div></div></div>"
      ],
      "text/plain": [
       "MultinomialNB()"
      ]
     },
     "execution_count": 10,
     "metadata": {},
     "output_type": "execute_result"
    }
   ],
   "source": [
    "from sklearn.naive_bayes import MultinomialNB\n",
    "\n",
    "# Inicialización del modelo Naive Bayes Multinomial\n",
    "Modelo = MultinomialNB()\n",
    "\n",
    "# Entrenamiento del modelo Naive Bayes Multinomial\n",
    "Modelo.fit(X_train, y_train)\n"
   ]
  },
  {
   "cell_type": "markdown",
   "metadata": {
    "id": "wR5IeppsxB-q"
   },
   "source": [
    "## 4. Evaluación del  Modelo"
   ]
  },
  {
   "cell_type": "markdown",
   "metadata": {},
   "source": [
    "### 4.1 Accuracy"
   ]
  },
  {
   "cell_type": "code",
   "execution_count": 11,
   "metadata": {
    "colab": {
     "base_uri": "https://localhost:8080/"
    },
    "id": "CleFgX1hwm88",
    "outputId": "ad92a67b-79dd-4a9c-b02c-43dcd05253c7"
   },
   "outputs": [
    {
     "name": "stdout",
     "output_type": "stream",
     "text": [
      "Precisión: 0.9814436934064532\n"
     ]
    }
   ],
   "source": [
    "from sklearn import metrics\n",
    "\n",
    "# Realizar predicciones en el conjunto de prueba\n",
    "y_pred = Modelo.predict(X_test)\n",
    "\n",
    "# Calcular y mostrar la precisión del modelo\n",
    "print(\"Precisión:\", metrics.accuracy_score(y_test, y_pred))\n",
    "\n"
   ]
  },
  {
   "cell_type": "markdown",
   "metadata": {},
   "source": [
    "### 4.2 Matriz de Confusión"
   ]
  },
  {
   "cell_type": "code",
   "execution_count": 12,
   "metadata": {
    "colab": {
     "base_uri": "https://localhost:8080/"
    },
    "id": "RtuLdFHqLj7Q",
    "outputId": "21c91a72-6440-4fa5-9ce7-ba4ae1b58d63"
   },
   "outputs": [
    {
     "name": "stdout",
     "output_type": "stream",
     "text": [
      "Matriz de Confusión:\n",
      "[[39232    43]\n",
      " [ 1412 37723]]\n"
     ]
    }
   ],
   "source": [
    "from sklearn.metrics import confusion_matrix\n",
    "\n",
    "# Calcular la matriz de confusión\n",
    "conf_matrix = confusion_matrix(y_test, y_pred)\n",
    "print(\"Matriz de Confusión:\")\n",
    "print(conf_matrix)\n"
   ]
  },
  {
   "cell_type": "markdown",
   "metadata": {},
   "source": [
    "### 4.3 Reporte de Clasificación"
   ]
  },
  {
   "cell_type": "code",
   "execution_count": 13,
   "metadata": {
    "colab": {
     "base_uri": "https://localhost:8080/"
    },
    "id": "6o9Q__eYL1o_",
    "outputId": "5a9358de-d9f9-44ff-ddff-f38fdc9a1027"
   },
   "outputs": [
    {
     "name": "stdout",
     "output_type": "stream",
     "text": [
      "Reporte de Clasificación:\n",
      "              precision    recall  f1-score   support\n",
      "\n",
      "   P. Física       0.97      1.00      0.98     39275\n",
      "    P. Moral       1.00      0.96      0.98     39135\n",
      "\n",
      "    accuracy                           0.98     78410\n",
      "   macro avg       0.98      0.98      0.98     78410\n",
      "weighted avg       0.98      0.98      0.98     78410\n",
      "\n"
     ]
    }
   ],
   "source": [
    "from sklearn.metrics import classification_report\n",
    "\n",
    "# Calcular el reporte de clasificación\n",
    "class_report = classification_report(y_test, y_pred)\n",
    "print(\"Reporte de Clasificación:\")\n",
    "print(class_report)\n"
   ]
  },
  {
   "cell_type": "markdown",
   "metadata": {},
   "source": [
    "### 4.4 Curva ROC y AUC"
   ]
  },
  {
   "cell_type": "code",
   "execution_count": 14,
   "metadata": {},
   "outputs": [
    {
     "name": "stdout",
     "output_type": "stream",
     "text": [
      "AUC: 0.9972080824533269\n"
     ]
    }
   ],
   "source": [
    "y_pred_proba = Modelo.predict_proba(X_test)[:,1]\n",
    "roc_auc = metrics.roc_auc_score(y_test, y_pred_proba)\n",
    "print(\"AUC:\", roc_auc)\n"
   ]
  },
  {
   "cell_type": "markdown",
   "metadata": {
    "id": "U-S4XGonxIBR"
   },
   "source": [
    "## 5. Aplicación del Modelo"
   ]
  },
  {
   "cell_type": "code",
   "execution_count": 15,
   "metadata": {
    "colab": {
     "base_uri": "https://localhost:8080/"
    },
    "id": "wlNhtssfwm_y",
    "outputId": "3e31cead-57f6-4a6b-d206-e780ef286821"
   },
   "outputs": [
    {
     "name": "stdout",
     "output_type": "stream",
     "text": [
      "Predicción: ['P. Física']\n"
     ]
    }
   ],
   "source": [
    "nueva_cadena = ['Eduardo Elías Flores Solís']\n",
    "nueva_cadena_tfidf = tfidf_vectorizer.transform(nueva_cadena)\n",
    "prediccion = Modelo.predict(nueva_cadena_tfidf)\n",
    "print('Predicción:', prediccion)"
   ]
  },
  {
   "cell_type": "code",
   "execution_count": 16,
   "metadata": {
    "colab": {
     "base_uri": "https://localhost:8080/"
    },
    "id": "1OUrQWVEfRKe",
    "outputId": "cdefdc50-7a7b-422a-f959-cce28ea2c8e2"
   },
   "outputs": [
    {
     "name": "stdout",
     "output_type": "stream",
     "text": [
      "Predicción: ['P. Moral']\n"
     ]
    }
   ],
   "source": [
    "nueva_cadena = ['Kapitalizer SAPI de SOFOM']\n",
    "nueva_cadena_tfidf = tfidf_vectorizer.transform(nueva_cadena)\n",
    "prediccion = Modelo.predict(nueva_cadena_tfidf)\n",
    "print('Predicción:', prediccion)"
   ]
  },
  {
   "cell_type": "code",
   "execution_count": 17,
   "metadata": {
    "id": "nCLmYQnmjXu6"
   },
   "outputs": [],
   "source": [
    "# Lista de empresas mexicanas que cotizan en la BMV y de compositores mexicanos,nótese que es practicamente imposible que estas cadenas se encuentren en el conjunto entrenamiento,\n",
    "# por lo que son ideneas para poner a prueba la eficacia del modelo.\n",
    "nombres = [\n",
    "\n",
    "    'Grupo Bimbo, SA de CV',\n",
    "    'Consuelo Velázquez Torres',\n",
    "    'Grupo Cuauhtémoc Moctezuma, S.A. de C.V.',\n",
    "    'Empacadora de Frutos y Jugos, S.A.',\n",
    "    'Banco Mercantil del Norte, S.A.',\n",
    "    'Manuel María Ponce Cuéllar',\n",
    "    'José Juventino Rosas Cadenas',\n",
    "    'Jaime Eduardo Vladimiro Mata Asiain',\n",
    "        'Teléfonos de México, S.A.B. de C.V.',\n",
    "    'Carlos Antonio de Padua Chávez y Ramírez'\n",
    "\n",
    "]\n",
    "\n",
    "# Crear el DataFrame\n",
    "df_prueba = pd.DataFrame({'Nombre': nombres})"
   ]
  },
  {
   "cell_type": "markdown",
   "metadata": {
    "id": "GAa5cNNcs8Ie"
   },
   "source": [
    "## Cadenas de Texto Clasificadas por el Modelo\n",
    "### Prueba de la Eficiencia del Modelo Clasificador"
   ]
  },
  {
   "cell_type": "code",
   "execution_count": 18,
   "metadata": {
    "colab": {
     "base_uri": "https://localhost:8080/",
     "height": 363
    },
    "id": "WD3N2o_djX0Z",
    "outputId": "337bcd4a-55af-4de5-cdb6-b96db19a9ef8"
   },
   "outputs": [
    {
     "data": {
      "text/html": [
       "<div>\n",
       "<style scoped>\n",
       "    .dataframe tbody tr th:only-of-type {\n",
       "        vertical-align: middle;\n",
       "    }\n",
       "\n",
       "    .dataframe tbody tr th {\n",
       "        vertical-align: top;\n",
       "    }\n",
       "\n",
       "    .dataframe thead th {\n",
       "        text-align: right;\n",
       "    }\n",
       "</style>\n",
       "<table border=\"1\" class=\"dataframe\">\n",
       "  <thead>\n",
       "    <tr style=\"text-align: right;\">\n",
       "      <th></th>\n",
       "      <th>Nombre</th>\n",
       "      <th>Predicción</th>\n",
       "    </tr>\n",
       "  </thead>\n",
       "  <tbody>\n",
       "    <tr>\n",
       "      <th>0</th>\n",
       "      <td>Grupo Bimbo, SA de CV</td>\n",
       "      <td>P. Moral</td>\n",
       "    </tr>\n",
       "    <tr>\n",
       "      <th>1</th>\n",
       "      <td>Consuelo Velázquez Torres</td>\n",
       "      <td>P. Física</td>\n",
       "    </tr>\n",
       "    <tr>\n",
       "      <th>2</th>\n",
       "      <td>Grupo Cuauhtémoc Moctezuma, S.A. de C.V.</td>\n",
       "      <td>P. Moral</td>\n",
       "    </tr>\n",
       "    <tr>\n",
       "      <th>3</th>\n",
       "      <td>Empacadora de Frutos y Jugos, S.A.</td>\n",
       "      <td>P. Moral</td>\n",
       "    </tr>\n",
       "    <tr>\n",
       "      <th>4</th>\n",
       "      <td>Banco Mercantil del Norte, S.A.</td>\n",
       "      <td>P. Moral</td>\n",
       "    </tr>\n",
       "    <tr>\n",
       "      <th>5</th>\n",
       "      <td>Manuel María Ponce Cuéllar</td>\n",
       "      <td>P. Física</td>\n",
       "    </tr>\n",
       "    <tr>\n",
       "      <th>6</th>\n",
       "      <td>José Juventino Rosas Cadenas</td>\n",
       "      <td>P. Física</td>\n",
       "    </tr>\n",
       "    <tr>\n",
       "      <th>7</th>\n",
       "      <td>Jaime Eduardo Vladimiro Mata Asiain</td>\n",
       "      <td>P. Física</td>\n",
       "    </tr>\n",
       "    <tr>\n",
       "      <th>8</th>\n",
       "      <td>Teléfonos de México, S.A.B. de C.V.</td>\n",
       "      <td>P. Moral</td>\n",
       "    </tr>\n",
       "    <tr>\n",
       "      <th>9</th>\n",
       "      <td>Carlos Antonio de Padua Chávez y Ramírez</td>\n",
       "      <td>P. Física</td>\n",
       "    </tr>\n",
       "  </tbody>\n",
       "</table>\n",
       "</div>"
      ],
      "text/plain": [
       "                                     Nombre Predicción\n",
       "0                     Grupo Bimbo, SA de CV   P. Moral\n",
       "1                 Consuelo Velázquez Torres  P. Física\n",
       "2  Grupo Cuauhtémoc Moctezuma, S.A. de C.V.   P. Moral\n",
       "3        Empacadora de Frutos y Jugos, S.A.   P. Moral\n",
       "4           Banco Mercantil del Norte, S.A.   P. Moral\n",
       "5                Manuel María Ponce Cuéllar  P. Física\n",
       "6              José Juventino Rosas Cadenas  P. Física\n",
       "7       Jaime Eduardo Vladimiro Mata Asiain  P. Física\n",
       "8       Teléfonos de México, S.A.B. de C.V.   P. Moral\n",
       "9  Carlos Antonio de Padua Chávez y Ramírez  P. Física"
      ]
     },
     "execution_count": 18,
     "metadata": {},
     "output_type": "execute_result"
    }
   ],
   "source": [
    "df_prueba['Predicción'] = Modelo.predict(tfidf_vectorizer.transform(df_prueba['Nombre']))\n",
    "df_prueba"
   ]
  },
  {
   "cell_type": "markdown",
   "metadata": {},
   "source": [
    "## Descarga del Modelo Entrenado"
   ]
  },
  {
   "cell_type": "code",
   "execution_count": 19,
   "metadata": {},
   "outputs": [
    {
     "data": {
      "text/plain": [
       "['tfidf_vectorizadot_Clasificador.joblib']"
      ]
     },
     "execution_count": 19,
     "metadata": {},
     "output_type": "execute_result"
    }
   ],
   "source": [
    "import joblib\n",
    "\n",
    "# Guardar el modelo entrenado en un archivo .joblib\n",
    "joblib.dump(Modelo, 'Clasificador_de_Texto_BayesN.joblib')\n",
    "\n",
    "# Guardar el vectorizador TF-IDF en un archivo .joblib\n",
    "joblib.dump(tfidf_vectorizer, 'tfidf_vectorizadot_Clasificador.joblib')\n"
   ]
  },
  {
   "cell_type": "code",
   "execution_count": null,
   "metadata": {},
   "outputs": [],
   "source": []
  },
  {
   "cell_type": "code",
   "execution_count": null,
   "metadata": {},
   "outputs": [],
   "source": []
  }
 ],
 "metadata": {
  "colab": {
   "provenance": []
  },
  "kernelspec": {
   "display_name": "Python 3 (ipykernel)",
   "language": "python",
   "name": "python3"
  },
  "language_info": {
   "codemirror_mode": {
    "name": "ipython",
    "version": 3
   },
   "file_extension": ".py",
   "mimetype": "text/x-python",
   "name": "python",
   "nbconvert_exporter": "python",
   "pygments_lexer": "ipython3",
   "version": "3.12.6"
  }
 },
 "nbformat": 4,
 "nbformat_minor": 4
}
