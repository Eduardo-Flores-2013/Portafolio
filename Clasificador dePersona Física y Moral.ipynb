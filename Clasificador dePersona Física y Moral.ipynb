{
  "nbformat": 4,
  "nbformat_minor": 0,
  "metadata": {
    "colab": {
      "provenance": []
    },
    "kernelspec": {
      "name": "python3",
      "display_name": "Python 3"
    },
    "language_info": {
      "name": "python"
    }
  },
  "cells": [
    {
      "cell_type": "markdown",
      "source": [
        "# $\\overline{\\underline{\\Large{\\textrm{Clasificador de Persona Física o Moral}}}}$"
      ],
      "metadata": {
        "id": "X8ce1k8ECzbf"
      }
    },
    {
      "cell_type": "markdown",
      "source": [
        "## 0. Consideraciones"
      ],
      "metadata": {
        "id": "3dENgyTLHjMf"
      }
    },
    {
      "cell_type": "markdown",
      "source": [
        "Este proyecto se centra en la implementación de un clasificador utilizando el modelo de Bayes Naive con el objetivo de distinguir entre personas físicas y morales a tráves de la cadena de caracteres que compone su nombre.\n",
        "\n",
        "El conjunto de datos se ha construido utilizando información recopilada de \"datamx.io\" a través del siguiente enlace:\n",
        "\n",
        "$~~~~~~~~~~~~~~~~~~~~~~~~~~~~~~~~~~~~~~~~~~~~~~~~~~~~~~~$ https://datamx.io/dataset/muestra-de-nombres-y-apellidos-comunes-en-mexico\n",
        "\n",
        "Este conjunto de datos proporciona una muestra representativa de nombres y apellidos comunes en México, facilitando así el entrenamiento y evaluación del modelo de Bayes Naive.\n",
        "\n",
        "\n",
        "Para los nombres de personas morales, se utilizaron datos abiertos del Sistema de Información Empresarial Mexicano, disponibles en:\n",
        "\n",
        "$~~~~~~~~~~~~~~~~~~~~~~~~~~~~~~~~~~~~~~~~~~~~~~~~~~$ https://datos.gob.mx/busca/dataset/sistema-de-informacion-empresarial-mexicano-siem."
      ],
      "metadata": {
        "id": "quZz00u5DCDv"
      }
    },
    {
      "cell_type": "markdown",
      "source": [
        "## 1. Carga y lmipieza de los Datos"
      ],
      "metadata": {
        "id": "qlH3cee_DGJ9"
      }
    },
    {
      "cell_type": "code",
      "source": [
        "from google.colab import drive\n",
        "import pandas as pd\n",
        "\n",
        "# Montar Google Drive en la sesión de Google Colab\n",
        "drive.mount('/content/drive')\n",
        "\n",
        "# Definir las rutas a los archivos CSV en Google Drive\n",
        "ruta_archivo_1 = \"/content/drive/MyDrive/Data Nombres Hombre y Mujer/hombres.csv\"\n",
        "ruta_archivo_2 = \"/content/drive/MyDrive/Data Nombres Hombre y Mujer/mujeres.csv\"\n",
        "ruta_archivo_3 = \"/content/drive/MyDrive/Data Nombres Hombre y Mujer/apellidos.csv\"\n",
        "\n",
        "# Leer los archivos CSV en DataFrames de pandas, utilizando encoding='latin-1' para manejar caracteres especiales\n",
        "Nombres_Hombres = pd.read_csv(ruta_archivo_1, encoding='latin-1')\n",
        "Nombres_Mujeres = pd.read_csv(ruta_archivo_2, encoding='latin-1')\n",
        "Apellidos = pd.read_csv(ruta_archivo_3, encoding='latin-1')\n"
      ],
      "metadata": {
        "colab": {
          "base_uri": "https://localhost:8080/"
        },
        "id": "tOtpw1vODMbZ",
        "outputId": "798c9f4e-bc41-4726-cfc3-6eb4a2573496"
      },
      "execution_count": 1,
      "outputs": [
        {
          "output_type": "stream",
          "name": "stdout",
          "text": [
            "Drive already mounted at /content/drive; to attempt to forcibly remount, call drive.mount(\"/content/drive\", force_remount=True).\n"
          ]
        }
      ]
    },
    {
      "cell_type": "code",
      "source": [
        "# Rellenar los valores NaN en la columna 'apellido' con una cadena vacía\n",
        "Apellidos['apellido'] = Apellidos['apellido'].fillna('')\n",
        "\n",
        "# Convertir la primera letra de cada palabra en la columna 'nombre' a mayúscula y el resto a minúscula (título)\n",
        "Nombres_Hombres['nombre'] = Nombres_Hombres['nombre'].str.title()\n",
        "Nombres_Mujeres['nombre'] = Nombres_Mujeres['nombre'].str.title()\n",
        "\n",
        "# Convertir la primera letra de cada palabra en la columna 'apellido' a mayúscula y el resto a minúscula (título)\n",
        "Apellidos['apellido'] = Apellidos['apellido'].str.title()\n",
        "\n",
        "# Corregir nombres femeninos que contienen 'Ma!' reemplazando 'Ma!' por 'Ma'\n",
        "Nombres_Mujeres.loc[Nombres_Mujeres['nombre'].str.contains('Ma!'), 'nombre'] = Nombres_Mujeres.loc[Nombres_Mujeres['nombre'].str.contains('Ma!'), 'nombre'].str.replace('Ma!', 'Ma')\n",
        "\n",
        "# Corregir nombres femeninos que contienen '%O' reemplazando '%O' por 'ño'\n",
        "Nombres_Mujeres.loc[Nombres_Mujeres['nombre'].str.contains('%'), 'nombre'] = Nombres_Mujeres.loc[Nombres_Mujeres['nombre'].str.contains('%'), 'nombre'].str.replace('%O', 'ño')\n"
      ],
      "metadata": {
        "id": "FyAgZbaEDP9s"
      },
      "execution_count": 2,
      "outputs": []
    },
    {
      "cell_type": "code",
      "source": [
        "import re\n",
        "\n",
        "def contiene_caracteres_raros(cadena):\n",
        "    patron_espanol = re.compile(r'[a-zA-ZñÑáéíóúÁÉÍÓÚ.\\s]')\n",
        "    return not all(patron_espanol.match(caracter) for caracter in cadena)\n",
        "\n",
        "# Filtrar las filas que contienen caracteres raros en la columna 'apellido'\n",
        "filas_con_caracteres_raros = Apellidos[Apellidos['apellido'].apply(contiene_caracteres_raros)]\n",
        "\n",
        "# Reemplazar todos los caracteres raros por una sola 'ñ' minúscula\n",
        "Apellidos.loc[filas_con_caracteres_raros.index, 'apellido'] = 'ñ'\n"
      ],
      "metadata": {
        "id": "SJUrINR-Db3t"
      },
      "execution_count": 3,
      "outputs": []
    },
    {
      "cell_type": "code",
      "source": [
        "# Definir la ruta al archivo CSV que contiene los nombres de personas morales\n",
        "ruta_archivo_4 = \"/content/drive/MyDrive/Data Nombres Hombre y Mujer/datosgob_SIEM2023.csv\"\n",
        "\n",
        "# Leer el archivo CSV y seleccionar la columna 'Razón Social' como serie de pandas\n",
        "Nombres_Morales = pd.read_csv(ruta_archivo_4, encoding='latin-1')['Razón Social']\n",
        "\n",
        "# Crear un nuevo DataFrame con la columna 'NombreCompleto' eliminando valores NaN y reiniciando el índice\n",
        "Nombres_Morales = pd.DataFrame({'NombreCompleto': Nombres_Morales.dropna()}).reset_index(drop=True)\n",
        "\n",
        "# Convertir la primera letra de cada palabra en la columna 'NombreCompleto' a mayúscula y el resto a minúscula (título)\n",
        "Nombres_Morales['NombreCompleto'] = Nombres_Morales['NombreCompleto'].str.title()\n"
      ],
      "metadata": {
        "colab": {
          "base_uri": "https://localhost:8080/"
        },
        "id": "j8Xw4D2zDb5R",
        "outputId": "e3ed848b-85ef-4f0e-86e7-80cc55ed79f8"
      },
      "execution_count": 4,
      "outputs": [
        {
          "output_type": "stream",
          "name": "stderr",
          "text": [
            "<ipython-input-4-f84cc6798974>:5: DtypeWarning: Columns (1,2,3,4,6,7,8,10,11) have mixed types. Specify dtype option on import or set low_memory=False.\n",
            "  Nombres_Morales = pd.read_csv(ruta_archivo_4, encoding='latin-1')['Razón Social']\n"
          ]
        }
      ]
    },
    {
      "cell_type": "markdown",
      "source": [
        "## 2. Generación del Dataset Empleado para el Entrenamiento"
      ],
      "metadata": {
        "id": "Wx442oGxDmuD"
      }
    },
    {
      "cell_type": "code",
      "source": [
        "from tqdm import tqdm\n",
        "import numpy as np\n",
        "import pandas as pd\n",
        "\n",
        "# Crear un DataFrame vacío con una columna llamada 'NombreCompleto'\n",
        "Nombres_Fisicos = pd.DataFrame(columns=['NombreCompleto'])\n",
        "\n",
        "# Número de registros a generar\n",
        "num_registros = 100000\n",
        "\n",
        "# Iniciar el bucle con tqdm para mostrar una barra de progreso con el número total de registros\n",
        "with tqdm(total=num_registros, desc=\"Generando registros\") as pbar:\n",
        "    # Iterar sobre el número de registros especificado\n",
        "    for _ in range(num_registros):\n",
        "        # Elegir aleatoriamente entre 'Hombre' y 'Mujer' con una probabilidad igual\n",
        "        genero = np.random.choice(['Hombre', 'Mujer'], p=[0.5, 0.5])\n",
        "\n",
        "        # Según el género elegido, seleccionar un nombre aleatorio basado en las frecuencias de nombres\n",
        "        if genero == 'Hombre':\n",
        "            nombre = np.random.choice(Nombres_Hombres['nombre'], p=(Nombres_Hombres['frec'] / Nombres_Hombres['frec'].sum()).values)\n",
        "        else:\n",
        "            nombre = np.random.choice(Nombres_Mujeres['nombre'], p=(Nombres_Mujeres['frec'] / Nombres_Mujeres['frec'].sum()).values)\n",
        "\n",
        "        # Elegir aleatoriamente entre 'frec_pri' y 'frec_seg' para los apellidos\n",
        "        apellido_pri = np.random.choice(Apellidos['apellido'], p=(Apellidos['frec_pri'] / Apellidos['frec_pri'].sum()).values)\n",
        "        apellido_seg = np.random.choice(Apellidos['apellido'], p=(Apellidos['frec_seg'] / Apellidos['frec_seg'].sum()).values)\n",
        "\n",
        "        # Concatenar nombre y apellidos para formar el nombre completo\n",
        "        nombre_completo = f\"{nombre} {apellido_pri} {apellido_seg}\"\n",
        "\n",
        "        # Crear un DataFrame temporal con el nombre completo generado\n",
        "        df_temporal = pd.DataFrame({'NombreCompleto': [nombre_completo]})\n",
        "\n",
        "        # Concatenar el DataFrame temporal al DataFrame principal Nombres_Fisicos\n",
        "        Nombres_Fisicos = pd.concat([Nombres_Fisicos, df_temporal], ignore_index=True)\n",
        "\n",
        "        # Actualizar la barra de progreso\n",
        "        pbar.update(1)\n",
        "\n",
        "# Mostrar el DataFrame Nombres_Fisicos que contiene los nombres completos generados\n",
        "Nombres_Fisicos\n"
      ],
      "metadata": {
        "colab": {
          "base_uri": "https://localhost:8080/",
          "height": 442
        },
        "id": "o-9Igm4cDs4z",
        "outputId": "af3e2786-17fd-49a3-bf03-a0a6b76b2dd2"
      },
      "execution_count": 5,
      "outputs": [
        {
          "output_type": "stream",
          "name": "stderr",
          "text": [
            "Generando registros: 100%|██████████| 100000/100000 [06:18<00:00, 264.28it/s]\n"
          ]
        },
        {
          "output_type": "execute_result",
          "data": {
            "text/plain": [
              "                  NombreCompleto\n",
              "0           Mónica Vera Castillo\n",
              "1      Marcelina Pérez Contreras\n",
              "2        Ana Bertha Mercado Cruz\n",
              "3      Armando Valdepeña Sánchez\n",
              "4          Estela Becerra Millán\n",
              "...                          ...\n",
              "99995    Israel Pacheco González\n",
              "99996     Francelia Gómez Flores\n",
              "99997      Susana Salazar Madrid\n",
              "99998   Irene Villanueva Riestra\n",
              "99999      Estela Candela Prieto\n",
              "\n",
              "[100000 rows x 1 columns]"
            ],
            "text/html": [
              "\n",
              "  <div id=\"df-b4003bcd-9826-481d-9ead-0f0fefa5b9f5\" class=\"colab-df-container\">\n",
              "    <div>\n",
              "<style scoped>\n",
              "    .dataframe tbody tr th:only-of-type {\n",
              "        vertical-align: middle;\n",
              "    }\n",
              "\n",
              "    .dataframe tbody tr th {\n",
              "        vertical-align: top;\n",
              "    }\n",
              "\n",
              "    .dataframe thead th {\n",
              "        text-align: right;\n",
              "    }\n",
              "</style>\n",
              "<table border=\"1\" class=\"dataframe\">\n",
              "  <thead>\n",
              "    <tr style=\"text-align: right;\">\n",
              "      <th></th>\n",
              "      <th>NombreCompleto</th>\n",
              "    </tr>\n",
              "  </thead>\n",
              "  <tbody>\n",
              "    <tr>\n",
              "      <th>0</th>\n",
              "      <td>Mónica Vera Castillo</td>\n",
              "    </tr>\n",
              "    <tr>\n",
              "      <th>1</th>\n",
              "      <td>Marcelina Pérez Contreras</td>\n",
              "    </tr>\n",
              "    <tr>\n",
              "      <th>2</th>\n",
              "      <td>Ana Bertha Mercado Cruz</td>\n",
              "    </tr>\n",
              "    <tr>\n",
              "      <th>3</th>\n",
              "      <td>Armando Valdepeña Sánchez</td>\n",
              "    </tr>\n",
              "    <tr>\n",
              "      <th>4</th>\n",
              "      <td>Estela Becerra Millán</td>\n",
              "    </tr>\n",
              "    <tr>\n",
              "      <th>...</th>\n",
              "      <td>...</td>\n",
              "    </tr>\n",
              "    <tr>\n",
              "      <th>99995</th>\n",
              "      <td>Israel Pacheco González</td>\n",
              "    </tr>\n",
              "    <tr>\n",
              "      <th>99996</th>\n",
              "      <td>Francelia Gómez Flores</td>\n",
              "    </tr>\n",
              "    <tr>\n",
              "      <th>99997</th>\n",
              "      <td>Susana Salazar Madrid</td>\n",
              "    </tr>\n",
              "    <tr>\n",
              "      <th>99998</th>\n",
              "      <td>Irene Villanueva Riestra</td>\n",
              "    </tr>\n",
              "    <tr>\n",
              "      <th>99999</th>\n",
              "      <td>Estela Candela Prieto</td>\n",
              "    </tr>\n",
              "  </tbody>\n",
              "</table>\n",
              "<p>100000 rows × 1 columns</p>\n",
              "</div>\n",
              "    <div class=\"colab-df-buttons\">\n",
              "\n",
              "  <div class=\"colab-df-container\">\n",
              "    <button class=\"colab-df-convert\" onclick=\"convertToInteractive('df-b4003bcd-9826-481d-9ead-0f0fefa5b9f5')\"\n",
              "            title=\"Convert this dataframe to an interactive table.\"\n",
              "            style=\"display:none;\">\n",
              "\n",
              "  <svg xmlns=\"http://www.w3.org/2000/svg\" height=\"24px\" viewBox=\"0 -960 960 960\">\n",
              "    <path d=\"M120-120v-720h720v720H120Zm60-500h600v-160H180v160Zm220 220h160v-160H400v160Zm0 220h160v-160H400v160ZM180-400h160v-160H180v160Zm440 0h160v-160H620v160ZM180-180h160v-160H180v160Zm440 0h160v-160H620v160Z\"/>\n",
              "  </svg>\n",
              "    </button>\n",
              "\n",
              "  <style>\n",
              "    .colab-df-container {\n",
              "      display:flex;\n",
              "      gap: 12px;\n",
              "    }\n",
              "\n",
              "    .colab-df-convert {\n",
              "      background-color: #E8F0FE;\n",
              "      border: none;\n",
              "      border-radius: 50%;\n",
              "      cursor: pointer;\n",
              "      display: none;\n",
              "      fill: #1967D2;\n",
              "      height: 32px;\n",
              "      padding: 0 0 0 0;\n",
              "      width: 32px;\n",
              "    }\n",
              "\n",
              "    .colab-df-convert:hover {\n",
              "      background-color: #E2EBFA;\n",
              "      box-shadow: 0px 1px 2px rgba(60, 64, 67, 0.3), 0px 1px 3px 1px rgba(60, 64, 67, 0.15);\n",
              "      fill: #174EA6;\n",
              "    }\n",
              "\n",
              "    .colab-df-buttons div {\n",
              "      margin-bottom: 4px;\n",
              "    }\n",
              "\n",
              "    [theme=dark] .colab-df-convert {\n",
              "      background-color: #3B4455;\n",
              "      fill: #D2E3FC;\n",
              "    }\n",
              "\n",
              "    [theme=dark] .colab-df-convert:hover {\n",
              "      background-color: #434B5C;\n",
              "      box-shadow: 0px 1px 3px 1px rgba(0, 0, 0, 0.15);\n",
              "      filter: drop-shadow(0px 1px 2px rgba(0, 0, 0, 0.3));\n",
              "      fill: #FFFFFF;\n",
              "    }\n",
              "  </style>\n",
              "\n",
              "    <script>\n",
              "      const buttonEl =\n",
              "        document.querySelector('#df-b4003bcd-9826-481d-9ead-0f0fefa5b9f5 button.colab-df-convert');\n",
              "      buttonEl.style.display =\n",
              "        google.colab.kernel.accessAllowed ? 'block' : 'none';\n",
              "\n",
              "      async function convertToInteractive(key) {\n",
              "        const element = document.querySelector('#df-b4003bcd-9826-481d-9ead-0f0fefa5b9f5');\n",
              "        const dataTable =\n",
              "          await google.colab.kernel.invokeFunction('convertToInteractive',\n",
              "                                                    [key], {});\n",
              "        if (!dataTable) return;\n",
              "\n",
              "        const docLinkHtml = 'Like what you see? Visit the ' +\n",
              "          '<a target=\"_blank\" href=https://colab.research.google.com/notebooks/data_table.ipynb>data table notebook</a>'\n",
              "          + ' to learn more about interactive tables.';\n",
              "        element.innerHTML = '';\n",
              "        dataTable['output_type'] = 'display_data';\n",
              "        await google.colab.output.renderOutput(dataTable, element);\n",
              "        const docLink = document.createElement('div');\n",
              "        docLink.innerHTML = docLinkHtml;\n",
              "        element.appendChild(docLink);\n",
              "      }\n",
              "    </script>\n",
              "  </div>\n",
              "\n",
              "\n",
              "<div id=\"df-759fc508-d5bd-400f-bdac-497701663484\">\n",
              "  <button class=\"colab-df-quickchart\" onclick=\"quickchart('df-759fc508-d5bd-400f-bdac-497701663484')\"\n",
              "            title=\"Suggest charts\"\n",
              "            style=\"display:none;\">\n",
              "\n",
              "<svg xmlns=\"http://www.w3.org/2000/svg\" height=\"24px\"viewBox=\"0 0 24 24\"\n",
              "     width=\"24px\">\n",
              "    <g>\n",
              "        <path d=\"M19 3H5c-1.1 0-2 .9-2 2v14c0 1.1.9 2 2 2h14c1.1 0 2-.9 2-2V5c0-1.1-.9-2-2-2zM9 17H7v-7h2v7zm4 0h-2V7h2v10zm4 0h-2v-4h2v4z\"/>\n",
              "    </g>\n",
              "</svg>\n",
              "  </button>\n",
              "\n",
              "<style>\n",
              "  .colab-df-quickchart {\n",
              "      --bg-color: #E8F0FE;\n",
              "      --fill-color: #1967D2;\n",
              "      --hover-bg-color: #E2EBFA;\n",
              "      --hover-fill-color: #174EA6;\n",
              "      --disabled-fill-color: #AAA;\n",
              "      --disabled-bg-color: #DDD;\n",
              "  }\n",
              "\n",
              "  [theme=dark] .colab-df-quickchart {\n",
              "      --bg-color: #3B4455;\n",
              "      --fill-color: #D2E3FC;\n",
              "      --hover-bg-color: #434B5C;\n",
              "      --hover-fill-color: #FFFFFF;\n",
              "      --disabled-bg-color: #3B4455;\n",
              "      --disabled-fill-color: #666;\n",
              "  }\n",
              "\n",
              "  .colab-df-quickchart {\n",
              "    background-color: var(--bg-color);\n",
              "    border: none;\n",
              "    border-radius: 50%;\n",
              "    cursor: pointer;\n",
              "    display: none;\n",
              "    fill: var(--fill-color);\n",
              "    height: 32px;\n",
              "    padding: 0;\n",
              "    width: 32px;\n",
              "  }\n",
              "\n",
              "  .colab-df-quickchart:hover {\n",
              "    background-color: var(--hover-bg-color);\n",
              "    box-shadow: 0 1px 2px rgba(60, 64, 67, 0.3), 0 1px 3px 1px rgba(60, 64, 67, 0.15);\n",
              "    fill: var(--button-hover-fill-color);\n",
              "  }\n",
              "\n",
              "  .colab-df-quickchart-complete:disabled,\n",
              "  .colab-df-quickchart-complete:disabled:hover {\n",
              "    background-color: var(--disabled-bg-color);\n",
              "    fill: var(--disabled-fill-color);\n",
              "    box-shadow: none;\n",
              "  }\n",
              "\n",
              "  .colab-df-spinner {\n",
              "    border: 2px solid var(--fill-color);\n",
              "    border-color: transparent;\n",
              "    border-bottom-color: var(--fill-color);\n",
              "    animation:\n",
              "      spin 1s steps(1) infinite;\n",
              "  }\n",
              "\n",
              "  @keyframes spin {\n",
              "    0% {\n",
              "      border-color: transparent;\n",
              "      border-bottom-color: var(--fill-color);\n",
              "      border-left-color: var(--fill-color);\n",
              "    }\n",
              "    20% {\n",
              "      border-color: transparent;\n",
              "      border-left-color: var(--fill-color);\n",
              "      border-top-color: var(--fill-color);\n",
              "    }\n",
              "    30% {\n",
              "      border-color: transparent;\n",
              "      border-left-color: var(--fill-color);\n",
              "      border-top-color: var(--fill-color);\n",
              "      border-right-color: var(--fill-color);\n",
              "    }\n",
              "    40% {\n",
              "      border-color: transparent;\n",
              "      border-right-color: var(--fill-color);\n",
              "      border-top-color: var(--fill-color);\n",
              "    }\n",
              "    60% {\n",
              "      border-color: transparent;\n",
              "      border-right-color: var(--fill-color);\n",
              "    }\n",
              "    80% {\n",
              "      border-color: transparent;\n",
              "      border-right-color: var(--fill-color);\n",
              "      border-bottom-color: var(--fill-color);\n",
              "    }\n",
              "    90% {\n",
              "      border-color: transparent;\n",
              "      border-bottom-color: var(--fill-color);\n",
              "    }\n",
              "  }\n",
              "</style>\n",
              "\n",
              "  <script>\n",
              "    async function quickchart(key) {\n",
              "      const quickchartButtonEl =\n",
              "        document.querySelector('#' + key + ' button');\n",
              "      quickchartButtonEl.disabled = true;  // To prevent multiple clicks.\n",
              "      quickchartButtonEl.classList.add('colab-df-spinner');\n",
              "      try {\n",
              "        const charts = await google.colab.kernel.invokeFunction(\n",
              "            'suggestCharts', [key], {});\n",
              "      } catch (error) {\n",
              "        console.error('Error during call to suggestCharts:', error);\n",
              "      }\n",
              "      quickchartButtonEl.classList.remove('colab-df-spinner');\n",
              "      quickchartButtonEl.classList.add('colab-df-quickchart-complete');\n",
              "    }\n",
              "    (() => {\n",
              "      let quickchartButtonEl =\n",
              "        document.querySelector('#df-759fc508-d5bd-400f-bdac-497701663484 button');\n",
              "      quickchartButtonEl.style.display =\n",
              "        google.colab.kernel.accessAllowed ? 'block' : 'none';\n",
              "    })();\n",
              "  </script>\n",
              "</div>\n",
              "\n",
              "  <div id=\"id_7e24dd1a-0dd7-46ff-8000-568536c367a9\">\n",
              "    <style>\n",
              "      .colab-df-generate {\n",
              "        background-color: #E8F0FE;\n",
              "        border: none;\n",
              "        border-radius: 50%;\n",
              "        cursor: pointer;\n",
              "        display: none;\n",
              "        fill: #1967D2;\n",
              "        height: 32px;\n",
              "        padding: 0 0 0 0;\n",
              "        width: 32px;\n",
              "      }\n",
              "\n",
              "      .colab-df-generate:hover {\n",
              "        background-color: #E2EBFA;\n",
              "        box-shadow: 0px 1px 2px rgba(60, 64, 67, 0.3), 0px 1px 3px 1px rgba(60, 64, 67, 0.15);\n",
              "        fill: #174EA6;\n",
              "      }\n",
              "\n",
              "      [theme=dark] .colab-df-generate {\n",
              "        background-color: #3B4455;\n",
              "        fill: #D2E3FC;\n",
              "      }\n",
              "\n",
              "      [theme=dark] .colab-df-generate:hover {\n",
              "        background-color: #434B5C;\n",
              "        box-shadow: 0px 1px 3px 1px rgba(0, 0, 0, 0.15);\n",
              "        filter: drop-shadow(0px 1px 2px rgba(0, 0, 0, 0.3));\n",
              "        fill: #FFFFFF;\n",
              "      }\n",
              "    </style>\n",
              "    <button class=\"colab-df-generate\" onclick=\"generateWithVariable('Nombres_Fisicos')\"\n",
              "            title=\"Generate code using this dataframe.\"\n",
              "            style=\"display:none;\">\n",
              "\n",
              "  <svg xmlns=\"http://www.w3.org/2000/svg\" height=\"24px\"viewBox=\"0 0 24 24\"\n",
              "       width=\"24px\">\n",
              "    <path d=\"M7,19H8.4L18.45,9,17,7.55,7,17.6ZM5,21V16.75L18.45,3.32a2,2,0,0,1,2.83,0l1.4,1.43a1.91,1.91,0,0,1,.58,1.4,1.91,1.91,0,0,1-.58,1.4L9.25,21ZM18.45,9,17,7.55Zm-12,3A5.31,5.31,0,0,0,4.9,8.1,5.31,5.31,0,0,0,1,6.5,5.31,5.31,0,0,0,4.9,4.9,5.31,5.31,0,0,0,6.5,1,5.31,5.31,0,0,0,8.1,4.9,5.31,5.31,0,0,0,12,6.5,5.46,5.46,0,0,0,6.5,12Z\"/>\n",
              "  </svg>\n",
              "    </button>\n",
              "    <script>\n",
              "      (() => {\n",
              "      const buttonEl =\n",
              "        document.querySelector('#id_7e24dd1a-0dd7-46ff-8000-568536c367a9 button.colab-df-generate');\n",
              "      buttonEl.style.display =\n",
              "        google.colab.kernel.accessAllowed ? 'block' : 'none';\n",
              "\n",
              "      buttonEl.onclick = () => {\n",
              "        google.colab.notebook.generateWithVariable('Nombres_Fisicos');\n",
              "      }\n",
              "      })();\n",
              "    </script>\n",
              "  </div>\n",
              "\n",
              "    </div>\n",
              "  </div>\n"
            ],
            "application/vnd.google.colaboratory.intrinsic+json": {
              "type": "dataframe",
              "variable_name": "Nombres_Fisicos",
              "summary": "{\n  \"name\": \"Nombres_Fisicos\",\n  \"rows\": 100000,\n  \"fields\": [\n    {\n      \"column\": \"NombreCompleto\",\n      \"properties\": {\n        \"dtype\": \"string\",\n        \"num_unique_values\": 99574,\n        \"samples\": [\n          \"Ernesto Garc\\u00eda Barr\\u00f3n\",\n          \"Jos\\u00e9 Luis Villalobos Monroy\",\n          \"Carlos Jim\\u00e9nez Ruelas\"\n        ],\n        \"semantic_type\": \"\",\n        \"description\": \"\"\n      }\n    }\n  ]\n}"
            }
          },
          "metadata": {},
          "execution_count": 5
        }
      ]
    },
    {
      "cell_type": "code",
      "source": [
        "Nombres_Fisicos['Etiqueta'] = 'P. Física'\n",
        "Nombres_Morales['Etiqueta'] = 'P. Moral'\n",
        "Nombres_DataSet = pd.concat([Nombres_Fisicos, Nombres_Morales])"
      ],
      "metadata": {
        "id": "ZKW6OmPedxVn"
      },
      "execution_count": 6,
      "outputs": []
    },
    {
      "cell_type": "markdown",
      "source": [
        "## 3. Creación de Características y Entrenamiento del Modelo"
      ],
      "metadata": {
        "id": "9jPMaeAiwhMQ"
      }
    },
    {
      "cell_type": "code",
      "source": [
        "from sklearn.feature_extraction.text import TfidfVectorizer\n",
        "\n",
        "# Crear un objeto TfidfVectorizer para la extracción de características\n",
        "tfidf_vectorizer = TfidfVectorizer(sublinear_tf=True, encoding='latin-1', decode_error='ignore')\n",
        "\n",
        "# Aplicar el TfidfVectorizer para transformar los nombres completos en características\n",
        "features = tfidf_vectorizer.fit_transform(Nombres_DataSet['NombreCompleto'])\n"
      ],
      "metadata": {
        "id": "B0RsEinCwXcF"
      },
      "execution_count": 7,
      "outputs": []
    },
    {
      "cell_type": "code",
      "source": [
        "from sklearn.model_selection import train_test_split\n",
        "\n",
        "# Dividir los datos en conjuntos de entrenamiento y prueba\n",
        "# X_train: Conjunto de características de entrenamiento\n",
        "# X_test: Conjunto de características de prueba\n",
        "# y_train: Etiquetas de entrenamiento\n",
        "# y_test: Etiquetas de prueba\n",
        "X_train, X_test, y_train, y_test = train_test_split(features, Nombres_DataSet['Etiqueta'], test_size=0.2, random_state=42)\n"
      ],
      "metadata": {
        "id": "iFSvgjdawXe1"
      },
      "execution_count": 8,
      "outputs": []
    },
    {
      "cell_type": "code",
      "source": [
        "from sklearn.naive_bayes import MultinomialNB\n",
        "\n",
        "# Inicialización del modelo Naive Bayes Multinomial\n",
        "Modelo = MultinomialNB()\n",
        "\n",
        "# Entrenamiento del modelo Naive Bayes Multinomial\n",
        "Modelo.fit(X_train, y_train)\n"
      ],
      "metadata": {
        "colab": {
          "base_uri": "https://localhost:8080/",
          "height": 75
        },
        "id": "Tm7LRidUwm6E",
        "outputId": "cb35f5c3-293b-48b3-82b4-c529fc2e9721"
      },
      "execution_count": 9,
      "outputs": [
        {
          "output_type": "execute_result",
          "data": {
            "text/plain": [
              "MultinomialNB()"
            ],
            "text/html": [
              "<style>#sk-container-id-1 {color: black;background-color: white;}#sk-container-id-1 pre{padding: 0;}#sk-container-id-1 div.sk-toggleable {background-color: white;}#sk-container-id-1 label.sk-toggleable__label {cursor: pointer;display: block;width: 100%;margin-bottom: 0;padding: 0.3em;box-sizing: border-box;text-align: center;}#sk-container-id-1 label.sk-toggleable__label-arrow:before {content: \"▸\";float: left;margin-right: 0.25em;color: #696969;}#sk-container-id-1 label.sk-toggleable__label-arrow:hover:before {color: black;}#sk-container-id-1 div.sk-estimator:hover label.sk-toggleable__label-arrow:before {color: black;}#sk-container-id-1 div.sk-toggleable__content {max-height: 0;max-width: 0;overflow: hidden;text-align: left;background-color: #f0f8ff;}#sk-container-id-1 div.sk-toggleable__content pre {margin: 0.2em;color: black;border-radius: 0.25em;background-color: #f0f8ff;}#sk-container-id-1 input.sk-toggleable__control:checked~div.sk-toggleable__content {max-height: 200px;max-width: 100%;overflow: auto;}#sk-container-id-1 input.sk-toggleable__control:checked~label.sk-toggleable__label-arrow:before {content: \"▾\";}#sk-container-id-1 div.sk-estimator input.sk-toggleable__control:checked~label.sk-toggleable__label {background-color: #d4ebff;}#sk-container-id-1 div.sk-label input.sk-toggleable__control:checked~label.sk-toggleable__label {background-color: #d4ebff;}#sk-container-id-1 input.sk-hidden--visually {border: 0;clip: rect(1px 1px 1px 1px);clip: rect(1px, 1px, 1px, 1px);height: 1px;margin: -1px;overflow: hidden;padding: 0;position: absolute;width: 1px;}#sk-container-id-1 div.sk-estimator {font-family: monospace;background-color: #f0f8ff;border: 1px dotted black;border-radius: 0.25em;box-sizing: border-box;margin-bottom: 0.5em;}#sk-container-id-1 div.sk-estimator:hover {background-color: #d4ebff;}#sk-container-id-1 div.sk-parallel-item::after {content: \"\";width: 100%;border-bottom: 1px solid gray;flex-grow: 1;}#sk-container-id-1 div.sk-label:hover label.sk-toggleable__label {background-color: #d4ebff;}#sk-container-id-1 div.sk-serial::before {content: \"\";position: absolute;border-left: 1px solid gray;box-sizing: border-box;top: 0;bottom: 0;left: 50%;z-index: 0;}#sk-container-id-1 div.sk-serial {display: flex;flex-direction: column;align-items: center;background-color: white;padding-right: 0.2em;padding-left: 0.2em;position: relative;}#sk-container-id-1 div.sk-item {position: relative;z-index: 1;}#sk-container-id-1 div.sk-parallel {display: flex;align-items: stretch;justify-content: center;background-color: white;position: relative;}#sk-container-id-1 div.sk-item::before, #sk-container-id-1 div.sk-parallel-item::before {content: \"\";position: absolute;border-left: 1px solid gray;box-sizing: border-box;top: 0;bottom: 0;left: 50%;z-index: -1;}#sk-container-id-1 div.sk-parallel-item {display: flex;flex-direction: column;z-index: 1;position: relative;background-color: white;}#sk-container-id-1 div.sk-parallel-item:first-child::after {align-self: flex-end;width: 50%;}#sk-container-id-1 div.sk-parallel-item:last-child::after {align-self: flex-start;width: 50%;}#sk-container-id-1 div.sk-parallel-item:only-child::after {width: 0;}#sk-container-id-1 div.sk-dashed-wrapped {border: 1px dashed gray;margin: 0 0.4em 0.5em 0.4em;box-sizing: border-box;padding-bottom: 0.4em;background-color: white;}#sk-container-id-1 div.sk-label label {font-family: monospace;font-weight: bold;display: inline-block;line-height: 1.2em;}#sk-container-id-1 div.sk-label-container {text-align: center;}#sk-container-id-1 div.sk-container {/* jupyter's `normalize.less` sets `[hidden] { display: none; }` but bootstrap.min.css set `[hidden] { display: none !important; }` so we also need the `!important` here to be able to override the default hidden behavior on the sphinx rendered scikit-learn.org. See: https://github.com/scikit-learn/scikit-learn/issues/21755 */display: inline-block !important;position: relative;}#sk-container-id-1 div.sk-text-repr-fallback {display: none;}</style><div id=\"sk-container-id-1\" class=\"sk-top-container\"><div class=\"sk-text-repr-fallback\"><pre>MultinomialNB()</pre><b>In a Jupyter environment, please rerun this cell to show the HTML representation or trust the notebook. <br />On GitHub, the HTML representation is unable to render, please try loading this page with nbviewer.org.</b></div><div class=\"sk-container\" hidden><div class=\"sk-item\"><div class=\"sk-estimator sk-toggleable\"><input class=\"sk-toggleable__control sk-hidden--visually\" id=\"sk-estimator-id-1\" type=\"checkbox\" checked><label for=\"sk-estimator-id-1\" class=\"sk-toggleable__label sk-toggleable__label-arrow\">MultinomialNB</label><div class=\"sk-toggleable__content\"><pre>MultinomialNB()</pre></div></div></div></div></div>"
            ]
          },
          "metadata": {},
          "execution_count": 9
        }
      ]
    },
    {
      "cell_type": "markdown",
      "source": [
        "## 4. Evaluación del  Modelo"
      ],
      "metadata": {
        "id": "wR5IeppsxB-q"
      }
    },
    {
      "cell_type": "code",
      "source": [
        "from sklearn import metrics\n",
        "\n",
        "# Realizar predicciones en el conjunto de prueba\n",
        "y_pred = Modelo.predict(X_test)\n",
        "\n",
        "# Calcular y mostrar la precisión del modelo\n",
        "print(\"Precisión:\", metrics.accuracy_score(y_test, y_pred))\n",
        "\n"
      ],
      "metadata": {
        "colab": {
          "base_uri": "https://localhost:8080/"
        },
        "id": "CleFgX1hwm88",
        "outputId": "ad92a67b-79dd-4a9c-b02c-43dcd05253c7"
      },
      "execution_count": 10,
      "outputs": [
        {
          "output_type": "stream",
          "name": "stdout",
          "text": [
            "Precisión: 0.9807112015070937\n"
          ]
        }
      ]
    },
    {
      "cell_type": "code",
      "source": [
        "from sklearn.metrics import confusion_matrix\n",
        "\n",
        "# Calcular la matriz de confusión\n",
        "conf_matrix = confusion_matrix(y_test, y_pred)\n",
        "print(\"Matriz de Confusión:\")\n",
        "print(conf_matrix)\n"
      ],
      "metadata": {
        "colab": {
          "base_uri": "https://localhost:8080/"
        },
        "id": "RtuLdFHqLj7Q",
        "outputId": "21c91a72-6440-4fa5-9ce7-ba4ae1b58d63"
      },
      "execution_count": 11,
      "outputs": [
        {
          "output_type": "stream",
          "name": "stdout",
          "text": [
            "Matriz de Confusión:\n",
            "[[19889    76]\n",
            " [ 1081 38937]]\n"
          ]
        }
      ]
    },
    {
      "cell_type": "code",
      "source": [
        "from sklearn.metrics import classification_report\n",
        "\n",
        "# Calcular el reporte de clasificación\n",
        "class_report = classification_report(y_test, y_pred)\n",
        "print(\"Reporte de Clasificación:\")\n",
        "print(class_report)\n"
      ],
      "metadata": {
        "colab": {
          "base_uri": "https://localhost:8080/"
        },
        "id": "6o9Q__eYL1o_",
        "outputId": "5a9358de-d9f9-44ff-ddff-f38fdc9a1027"
      },
      "execution_count": 12,
      "outputs": [
        {
          "output_type": "stream",
          "name": "stdout",
          "text": [
            "Reporte de Clasificación:\n",
            "              precision    recall  f1-score   support\n",
            "\n",
            "   P. Física       0.95      1.00      0.97     19965\n",
            "    P. Moral       1.00      0.97      0.99     40018\n",
            "\n",
            "    accuracy                           0.98     59983\n",
            "   macro avg       0.97      0.98      0.98     59983\n",
            "weighted avg       0.98      0.98      0.98     59983\n",
            "\n"
          ]
        }
      ]
    },
    {
      "cell_type": "markdown",
      "source": [
        "## 5. Aplicación del Modelo"
      ],
      "metadata": {
        "id": "U-S4XGonxIBR"
      }
    },
    {
      "cell_type": "code",
      "source": [
        "nueva_cadena = ['Eduardo Elías Flores Solís']\n",
        "nueva_cadena_tfidf = tfidf_vectorizer.transform(nueva_cadena)\n",
        "prediccion = Modelo.predict(nueva_cadena_tfidf)\n",
        "print('Predicción:', prediccion)"
      ],
      "metadata": {
        "colab": {
          "base_uri": "https://localhost:8080/"
        },
        "id": "wlNhtssfwm_y",
        "outputId": "3e31cead-57f6-4a6b-d206-e780ef286821"
      },
      "execution_count": 13,
      "outputs": [
        {
          "output_type": "stream",
          "name": "stdout",
          "text": [
            "Predicción: ['P. Física']\n"
          ]
        }
      ]
    },
    {
      "cell_type": "code",
      "source": [
        "nueva_cadena = ['Kapitalizer SAPI de SOFOM']\n",
        "nueva_cadena_tfidf = tfidf_vectorizer.transform(nueva_cadena)\n",
        "prediccion = Modelo.predict(nueva_cadena_tfidf)\n",
        "print('Predicción:', prediccion)"
      ],
      "metadata": {
        "colab": {
          "base_uri": "https://localhost:8080/"
        },
        "id": "1OUrQWVEfRKe",
        "outputId": "cdefdc50-7a7b-422a-f959-cce28ea2c8e2"
      },
      "execution_count": 14,
      "outputs": [
        {
          "output_type": "stream",
          "name": "stdout",
          "text": [
            "Predicción: ['P. Moral']\n"
          ]
        }
      ]
    },
    {
      "cell_type": "code",
      "source": [
        "# Lista de empresas mexicanas que cotizan en la BMV y de compositores mexicanos,nótese que es practicamente imposible que estas cadenas se encuentren en el conjunto entrenamiento,\n",
        "# por lo que son ideneas para poner a prueba la eficacia del modelo.\n",
        "nombres = [\n",
        "\n",
        "    'Grupo Bimbo, SA de CV',\n",
        "    'Consuelo Velázquez Torres',\n",
        "    'Grupo Cuauhtémoc Moctezuma, S.A. de C.V.',\n",
        "    'Empacadora de Frutos y Jugos, S.A.',\n",
        "    'Banco Mercantil del Norte, S.A.',\n",
        "    'Manuel María Ponce Cuéllar',\n",
        "    'José Juventino Rosas Cadenas',\n",
        "    'Jaime Eduardo Vladimiro Mata Asiain',\n",
        "        'Teléfonos de México, S.A.B. de C.V.',\n",
        "    'Carlos Antonio de Padua Chávez y Ramírez'\n",
        "\n",
        "]\n",
        "\n",
        "# Crear el DataFrame\n",
        "df_prueba = pd.DataFrame({'Nombre': nombres})"
      ],
      "metadata": {
        "id": "nCLmYQnmjXu6"
      },
      "execution_count": 15,
      "outputs": []
    },
    {
      "cell_type": "markdown",
      "source": [
        "## Cadenas de Texto Clasificadas por el Modelo\n",
        "### Prueba de la Eficiencia del Modelo Clasificador"
      ],
      "metadata": {
        "id": "GAa5cNNcs8Ie"
      }
    },
    {
      "cell_type": "code",
      "source": [
        "df_prueba['Predicción'] = Modelo.predict(tfidf_vectorizer.transform(df_prueba['Nombre']))\n",
        "df_prueba"
      ],
      "metadata": {
        "colab": {
          "base_uri": "https://localhost:8080/",
          "height": 363
        },
        "id": "WD3N2o_djX0Z",
        "outputId": "337bcd4a-55af-4de5-cdb6-b96db19a9ef8"
      },
      "execution_count": 16,
      "outputs": [
        {
          "output_type": "execute_result",
          "data": {
            "text/plain": [
              "                                     Nombre Predicción\n",
              "0                     Grupo Bimbo, SA de CV   P. Moral\n",
              "1                 Consuelo Velázquez Torres  P. Física\n",
              "2  Grupo Cuauhtémoc Moctezuma, S.A. de C.V.   P. Moral\n",
              "3        Empacadora de Frutos y Jugos, S.A.   P. Moral\n",
              "4           Banco Mercantil del Norte, S.A.   P. Moral\n",
              "5                Manuel María Ponce Cuéllar  P. Física\n",
              "6              José Juventino Rosas Cadenas  P. Física\n",
              "7       Jaime Eduardo Vladimiro Mata Asiain  P. Física\n",
              "8       Teléfonos de México, S.A.B. de C.V.   P. Moral\n",
              "9  Carlos Antonio de Padua Chávez y Ramírez  P. Física"
            ],
            "text/html": [
              "\n",
              "  <div id=\"df-27217481-8843-4a63-b7d9-f480ee3dc582\" class=\"colab-df-container\">\n",
              "    <div>\n",
              "<style scoped>\n",
              "    .dataframe tbody tr th:only-of-type {\n",
              "        vertical-align: middle;\n",
              "    }\n",
              "\n",
              "    .dataframe tbody tr th {\n",
              "        vertical-align: top;\n",
              "    }\n",
              "\n",
              "    .dataframe thead th {\n",
              "        text-align: right;\n",
              "    }\n",
              "</style>\n",
              "<table border=\"1\" class=\"dataframe\">\n",
              "  <thead>\n",
              "    <tr style=\"text-align: right;\">\n",
              "      <th></th>\n",
              "      <th>Nombre</th>\n",
              "      <th>Predicción</th>\n",
              "    </tr>\n",
              "  </thead>\n",
              "  <tbody>\n",
              "    <tr>\n",
              "      <th>0</th>\n",
              "      <td>Grupo Bimbo, SA de CV</td>\n",
              "      <td>P. Moral</td>\n",
              "    </tr>\n",
              "    <tr>\n",
              "      <th>1</th>\n",
              "      <td>Consuelo Velázquez Torres</td>\n",
              "      <td>P. Física</td>\n",
              "    </tr>\n",
              "    <tr>\n",
              "      <th>2</th>\n",
              "      <td>Grupo Cuauhtémoc Moctezuma, S.A. de C.V.</td>\n",
              "      <td>P. Moral</td>\n",
              "    </tr>\n",
              "    <tr>\n",
              "      <th>3</th>\n",
              "      <td>Empacadora de Frutos y Jugos, S.A.</td>\n",
              "      <td>P. Moral</td>\n",
              "    </tr>\n",
              "    <tr>\n",
              "      <th>4</th>\n",
              "      <td>Banco Mercantil del Norte, S.A.</td>\n",
              "      <td>P. Moral</td>\n",
              "    </tr>\n",
              "    <tr>\n",
              "      <th>5</th>\n",
              "      <td>Manuel María Ponce Cuéllar</td>\n",
              "      <td>P. Física</td>\n",
              "    </tr>\n",
              "    <tr>\n",
              "      <th>6</th>\n",
              "      <td>José Juventino Rosas Cadenas</td>\n",
              "      <td>P. Física</td>\n",
              "    </tr>\n",
              "    <tr>\n",
              "      <th>7</th>\n",
              "      <td>Jaime Eduardo Vladimiro Mata Asiain</td>\n",
              "      <td>P. Física</td>\n",
              "    </tr>\n",
              "    <tr>\n",
              "      <th>8</th>\n",
              "      <td>Teléfonos de México, S.A.B. de C.V.</td>\n",
              "      <td>P. Moral</td>\n",
              "    </tr>\n",
              "    <tr>\n",
              "      <th>9</th>\n",
              "      <td>Carlos Antonio de Padua Chávez y Ramírez</td>\n",
              "      <td>P. Física</td>\n",
              "    </tr>\n",
              "  </tbody>\n",
              "</table>\n",
              "</div>\n",
              "    <div class=\"colab-df-buttons\">\n",
              "\n",
              "  <div class=\"colab-df-container\">\n",
              "    <button class=\"colab-df-convert\" onclick=\"convertToInteractive('df-27217481-8843-4a63-b7d9-f480ee3dc582')\"\n",
              "            title=\"Convert this dataframe to an interactive table.\"\n",
              "            style=\"display:none;\">\n",
              "\n",
              "  <svg xmlns=\"http://www.w3.org/2000/svg\" height=\"24px\" viewBox=\"0 -960 960 960\">\n",
              "    <path d=\"M120-120v-720h720v720H120Zm60-500h600v-160H180v160Zm220 220h160v-160H400v160Zm0 220h160v-160H400v160ZM180-400h160v-160H180v160Zm440 0h160v-160H620v160ZM180-180h160v-160H180v160Zm440 0h160v-160H620v160Z\"/>\n",
              "  </svg>\n",
              "    </button>\n",
              "\n",
              "  <style>\n",
              "    .colab-df-container {\n",
              "      display:flex;\n",
              "      gap: 12px;\n",
              "    }\n",
              "\n",
              "    .colab-df-convert {\n",
              "      background-color: #E8F0FE;\n",
              "      border: none;\n",
              "      border-radius: 50%;\n",
              "      cursor: pointer;\n",
              "      display: none;\n",
              "      fill: #1967D2;\n",
              "      height: 32px;\n",
              "      padding: 0 0 0 0;\n",
              "      width: 32px;\n",
              "    }\n",
              "\n",
              "    .colab-df-convert:hover {\n",
              "      background-color: #E2EBFA;\n",
              "      box-shadow: 0px 1px 2px rgba(60, 64, 67, 0.3), 0px 1px 3px 1px rgba(60, 64, 67, 0.15);\n",
              "      fill: #174EA6;\n",
              "    }\n",
              "\n",
              "    .colab-df-buttons div {\n",
              "      margin-bottom: 4px;\n",
              "    }\n",
              "\n",
              "    [theme=dark] .colab-df-convert {\n",
              "      background-color: #3B4455;\n",
              "      fill: #D2E3FC;\n",
              "    }\n",
              "\n",
              "    [theme=dark] .colab-df-convert:hover {\n",
              "      background-color: #434B5C;\n",
              "      box-shadow: 0px 1px 3px 1px rgba(0, 0, 0, 0.15);\n",
              "      filter: drop-shadow(0px 1px 2px rgba(0, 0, 0, 0.3));\n",
              "      fill: #FFFFFF;\n",
              "    }\n",
              "  </style>\n",
              "\n",
              "    <script>\n",
              "      const buttonEl =\n",
              "        document.querySelector('#df-27217481-8843-4a63-b7d9-f480ee3dc582 button.colab-df-convert');\n",
              "      buttonEl.style.display =\n",
              "        google.colab.kernel.accessAllowed ? 'block' : 'none';\n",
              "\n",
              "      async function convertToInteractive(key) {\n",
              "        const element = document.querySelector('#df-27217481-8843-4a63-b7d9-f480ee3dc582');\n",
              "        const dataTable =\n",
              "          await google.colab.kernel.invokeFunction('convertToInteractive',\n",
              "                                                    [key], {});\n",
              "        if (!dataTable) return;\n",
              "\n",
              "        const docLinkHtml = 'Like what you see? Visit the ' +\n",
              "          '<a target=\"_blank\" href=https://colab.research.google.com/notebooks/data_table.ipynb>data table notebook</a>'\n",
              "          + ' to learn more about interactive tables.';\n",
              "        element.innerHTML = '';\n",
              "        dataTable['output_type'] = 'display_data';\n",
              "        await google.colab.output.renderOutput(dataTable, element);\n",
              "        const docLink = document.createElement('div');\n",
              "        docLink.innerHTML = docLinkHtml;\n",
              "        element.appendChild(docLink);\n",
              "      }\n",
              "    </script>\n",
              "  </div>\n",
              "\n",
              "\n",
              "<div id=\"df-7dc31c7a-4925-4445-82db-a36d480172a0\">\n",
              "  <button class=\"colab-df-quickchart\" onclick=\"quickchart('df-7dc31c7a-4925-4445-82db-a36d480172a0')\"\n",
              "            title=\"Suggest charts\"\n",
              "            style=\"display:none;\">\n",
              "\n",
              "<svg xmlns=\"http://www.w3.org/2000/svg\" height=\"24px\"viewBox=\"0 0 24 24\"\n",
              "     width=\"24px\">\n",
              "    <g>\n",
              "        <path d=\"M19 3H5c-1.1 0-2 .9-2 2v14c0 1.1.9 2 2 2h14c1.1 0 2-.9 2-2V5c0-1.1-.9-2-2-2zM9 17H7v-7h2v7zm4 0h-2V7h2v10zm4 0h-2v-4h2v4z\"/>\n",
              "    </g>\n",
              "</svg>\n",
              "  </button>\n",
              "\n",
              "<style>\n",
              "  .colab-df-quickchart {\n",
              "      --bg-color: #E8F0FE;\n",
              "      --fill-color: #1967D2;\n",
              "      --hover-bg-color: #E2EBFA;\n",
              "      --hover-fill-color: #174EA6;\n",
              "      --disabled-fill-color: #AAA;\n",
              "      --disabled-bg-color: #DDD;\n",
              "  }\n",
              "\n",
              "  [theme=dark] .colab-df-quickchart {\n",
              "      --bg-color: #3B4455;\n",
              "      --fill-color: #D2E3FC;\n",
              "      --hover-bg-color: #434B5C;\n",
              "      --hover-fill-color: #FFFFFF;\n",
              "      --disabled-bg-color: #3B4455;\n",
              "      --disabled-fill-color: #666;\n",
              "  }\n",
              "\n",
              "  .colab-df-quickchart {\n",
              "    background-color: var(--bg-color);\n",
              "    border: none;\n",
              "    border-radius: 50%;\n",
              "    cursor: pointer;\n",
              "    display: none;\n",
              "    fill: var(--fill-color);\n",
              "    height: 32px;\n",
              "    padding: 0;\n",
              "    width: 32px;\n",
              "  }\n",
              "\n",
              "  .colab-df-quickchart:hover {\n",
              "    background-color: var(--hover-bg-color);\n",
              "    box-shadow: 0 1px 2px rgba(60, 64, 67, 0.3), 0 1px 3px 1px rgba(60, 64, 67, 0.15);\n",
              "    fill: var(--button-hover-fill-color);\n",
              "  }\n",
              "\n",
              "  .colab-df-quickchart-complete:disabled,\n",
              "  .colab-df-quickchart-complete:disabled:hover {\n",
              "    background-color: var(--disabled-bg-color);\n",
              "    fill: var(--disabled-fill-color);\n",
              "    box-shadow: none;\n",
              "  }\n",
              "\n",
              "  .colab-df-spinner {\n",
              "    border: 2px solid var(--fill-color);\n",
              "    border-color: transparent;\n",
              "    border-bottom-color: var(--fill-color);\n",
              "    animation:\n",
              "      spin 1s steps(1) infinite;\n",
              "  }\n",
              "\n",
              "  @keyframes spin {\n",
              "    0% {\n",
              "      border-color: transparent;\n",
              "      border-bottom-color: var(--fill-color);\n",
              "      border-left-color: var(--fill-color);\n",
              "    }\n",
              "    20% {\n",
              "      border-color: transparent;\n",
              "      border-left-color: var(--fill-color);\n",
              "      border-top-color: var(--fill-color);\n",
              "    }\n",
              "    30% {\n",
              "      border-color: transparent;\n",
              "      border-left-color: var(--fill-color);\n",
              "      border-top-color: var(--fill-color);\n",
              "      border-right-color: var(--fill-color);\n",
              "    }\n",
              "    40% {\n",
              "      border-color: transparent;\n",
              "      border-right-color: var(--fill-color);\n",
              "      border-top-color: var(--fill-color);\n",
              "    }\n",
              "    60% {\n",
              "      border-color: transparent;\n",
              "      border-right-color: var(--fill-color);\n",
              "    }\n",
              "    80% {\n",
              "      border-color: transparent;\n",
              "      border-right-color: var(--fill-color);\n",
              "      border-bottom-color: var(--fill-color);\n",
              "    }\n",
              "    90% {\n",
              "      border-color: transparent;\n",
              "      border-bottom-color: var(--fill-color);\n",
              "    }\n",
              "  }\n",
              "</style>\n",
              "\n",
              "  <script>\n",
              "    async function quickchart(key) {\n",
              "      const quickchartButtonEl =\n",
              "        document.querySelector('#' + key + ' button');\n",
              "      quickchartButtonEl.disabled = true;  // To prevent multiple clicks.\n",
              "      quickchartButtonEl.classList.add('colab-df-spinner');\n",
              "      try {\n",
              "        const charts = await google.colab.kernel.invokeFunction(\n",
              "            'suggestCharts', [key], {});\n",
              "      } catch (error) {\n",
              "        console.error('Error during call to suggestCharts:', error);\n",
              "      }\n",
              "      quickchartButtonEl.classList.remove('colab-df-spinner');\n",
              "      quickchartButtonEl.classList.add('colab-df-quickchart-complete');\n",
              "    }\n",
              "    (() => {\n",
              "      let quickchartButtonEl =\n",
              "        document.querySelector('#df-7dc31c7a-4925-4445-82db-a36d480172a0 button');\n",
              "      quickchartButtonEl.style.display =\n",
              "        google.colab.kernel.accessAllowed ? 'block' : 'none';\n",
              "    })();\n",
              "  </script>\n",
              "</div>\n",
              "\n",
              "  <div id=\"id_8bcc12e0-f6c2-4ca9-9905-b993142b5220\">\n",
              "    <style>\n",
              "      .colab-df-generate {\n",
              "        background-color: #E8F0FE;\n",
              "        border: none;\n",
              "        border-radius: 50%;\n",
              "        cursor: pointer;\n",
              "        display: none;\n",
              "        fill: #1967D2;\n",
              "        height: 32px;\n",
              "        padding: 0 0 0 0;\n",
              "        width: 32px;\n",
              "      }\n",
              "\n",
              "      .colab-df-generate:hover {\n",
              "        background-color: #E2EBFA;\n",
              "        box-shadow: 0px 1px 2px rgba(60, 64, 67, 0.3), 0px 1px 3px 1px rgba(60, 64, 67, 0.15);\n",
              "        fill: #174EA6;\n",
              "      }\n",
              "\n",
              "      [theme=dark] .colab-df-generate {\n",
              "        background-color: #3B4455;\n",
              "        fill: #D2E3FC;\n",
              "      }\n",
              "\n",
              "      [theme=dark] .colab-df-generate:hover {\n",
              "        background-color: #434B5C;\n",
              "        box-shadow: 0px 1px 3px 1px rgba(0, 0, 0, 0.15);\n",
              "        filter: drop-shadow(0px 1px 2px rgba(0, 0, 0, 0.3));\n",
              "        fill: #FFFFFF;\n",
              "      }\n",
              "    </style>\n",
              "    <button class=\"colab-df-generate\" onclick=\"generateWithVariable('df_prueba')\"\n",
              "            title=\"Generate code using this dataframe.\"\n",
              "            style=\"display:none;\">\n",
              "\n",
              "  <svg xmlns=\"http://www.w3.org/2000/svg\" height=\"24px\"viewBox=\"0 0 24 24\"\n",
              "       width=\"24px\">\n",
              "    <path d=\"M7,19H8.4L18.45,9,17,7.55,7,17.6ZM5,21V16.75L18.45,3.32a2,2,0,0,1,2.83,0l1.4,1.43a1.91,1.91,0,0,1,.58,1.4,1.91,1.91,0,0,1-.58,1.4L9.25,21ZM18.45,9,17,7.55Zm-12,3A5.31,5.31,0,0,0,4.9,8.1,5.31,5.31,0,0,0,1,6.5,5.31,5.31,0,0,0,4.9,4.9,5.31,5.31,0,0,0,6.5,1,5.31,5.31,0,0,0,8.1,4.9,5.31,5.31,0,0,0,12,6.5,5.46,5.46,0,0,0,6.5,12Z\"/>\n",
              "  </svg>\n",
              "    </button>\n",
              "    <script>\n",
              "      (() => {\n",
              "      const buttonEl =\n",
              "        document.querySelector('#id_8bcc12e0-f6c2-4ca9-9905-b993142b5220 button.colab-df-generate');\n",
              "      buttonEl.style.display =\n",
              "        google.colab.kernel.accessAllowed ? 'block' : 'none';\n",
              "\n",
              "      buttonEl.onclick = () => {\n",
              "        google.colab.notebook.generateWithVariable('df_prueba');\n",
              "      }\n",
              "      })();\n",
              "    </script>\n",
              "  </div>\n",
              "\n",
              "    </div>\n",
              "  </div>\n"
            ],
            "application/vnd.google.colaboratory.intrinsic+json": {
              "type": "dataframe",
              "variable_name": "df_prueba",
              "summary": "{\n  \"name\": \"df_prueba\",\n  \"rows\": 10,\n  \"fields\": [\n    {\n      \"column\": \"Nombre\",\n      \"properties\": {\n        \"dtype\": \"string\",\n        \"num_unique_values\": 10,\n        \"samples\": [\n          \"Tel\\u00e9fonos de M\\u00e9xico, S.A.B. de C.V.\",\n          \"Consuelo Vel\\u00e1zquez Torres\",\n          \"Manuel Mar\\u00eda Ponce Cu\\u00e9llar\"\n        ],\n        \"semantic_type\": \"\",\n        \"description\": \"\"\n      }\n    },\n    {\n      \"column\": \"Predicci\\u00f3n\",\n      \"properties\": {\n        \"dtype\": \"category\",\n        \"num_unique_values\": 2,\n        \"samples\": [\n          \"P. F\\u00edsica\",\n          \"P. Moral\"\n        ],\n        \"semantic_type\": \"\",\n        \"description\": \"\"\n      }\n    }\n  ]\n}"
            }
          },
          "metadata": {},
          "execution_count": 16
        }
      ]
    }
  ]
}